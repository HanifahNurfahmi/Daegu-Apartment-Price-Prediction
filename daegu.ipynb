{
 "cells": [
  {
   "cell_type": "markdown",
   "metadata": {},
   "source": [
    "# **DAEGU APARTMENT**"
   ]
  },
  {
   "cell_type": "markdown",
   "metadata": {},
   "source": [
    "[Sumber data Daegu Apartment](https://www.kaggle.com/datasets/gunhee/koreahousedata) \n",
    "\n",
    "### **Contents**\n",
    "\n",
    "- Business Problem Understanding\n",
    "- Data Understanding\n",
    "- Data Preprocessing\n",
    "- Modelling\n",
    "- Conclusion\n",
    "- Rekomendation\n",
    "\n",
    "****"
   ]
  },
  {
   "cell_type": "markdown",
   "metadata": {},
   "source": [
    "# **Business Problem Understanding**"
   ]
  },
  {
   "cell_type": "markdown",
   "metadata": {},
   "source": [
    "**Context**"
   ]
  },
  {
   "cell_type": "markdown",
   "metadata": {},
   "source": [
    "Daegu yang memiliki nama resmi Kota Metropolitan Daegu ini adalah metropolitan terbesar ke-3 di Korea Selatan setelah Seoul dan Busan yang memiliki Penduduk sekitar 2,5 Juta jiwa. Daegu dikelilingi oleh pegunungan Palgong-san di utara, Biseul-san di selatan, kaki bukit Gaya-san di barat, dan satu deretan bukit kecil di timur. Dengan pemandangan indah dan suasana yang tampak cukup sejuk ini, Daegu tetap saja seperti kota-kota metropolitan lainnya. Dengan kehidupan perkotaan yang padat penduduk namun lahan terbatas membuat Daegu seperti kota metropolitan lainnya yang mengandalkan apartment sebagai pilihan untuk tempat tinggal penduduknya. Di Korea Selatan sendiri terutama di kota-kota besar kebanyakan orang lebih memilih menjual/membeli apartment melalui agen properti. Ini membuat banyaknya agen properti yang menjajakan jasanya dalam membantu menjual atau membeli apartment. Karena jika menggunakan jasa agen properti, pembeli maupun penjual tidak perlu kesusahan dalam transaksi maupun surat-surat yang harus diurus.\n",
    "\n",
    "[Sumber](https://en.wikipedia.org/wiki/Daegu) "
   ]
  },
  {
   "cell_type": "markdown",
   "metadata": {},
   "source": [
    "**Problem Statement**"
   ]
  },
  {
   "cell_type": "markdown",
   "metadata": {},
   "source": [
    "Masalah pada bisnis ini cukup sulit karena harus menentukan harga jual yang cocok untuk suatu apartment dengan fasilitas dan fitur-fitur tertentu di daerah Daebong, Kota Daegu ini. Oleh karena itu dibutuhkan Model yang tepat untuk menyelesaikan masalah penentuan harga jual apartment, agar dapat menghasilkan keuntungan bagi pemilik properti serta agen properti. Selain itu agar harga apartment di daerah itu terkesan adil dan tidak mengalami perbedaan yg besar antara satu apartment dengan apartment lainnya"
   ]
  },
  {
   "cell_type": "markdown",
   "metadata": {},
   "source": [
    "**Goals**"
   ]
  },
  {
   "cell_type": "markdown",
   "metadata": {},
   "source": [
    "Berdasarkan permasalahan ini, Agen properti tentu perlu memiliki 'tool' yang dapat memprediksi serta membantu klien mereka (dalam hal ini tuan rumah) untuk dapat **menentukan harga jual properti yang tepat**. Adanya perbedaan pada berbagai fitur yang terdapat pada suatu properti, seperti tahun dibangunnya, lokasi, tipe hallway dapat menambah keakuratan prediksi harga jual, yang mana dapat mendatangkan profit bagi tuan rumah."
   ]
  },
  {
   "cell_type": "markdown",
   "metadata": {},
   "source": [
    "**Analytic Approach**"
   ]
  },
  {
   "cell_type": "markdown",
   "metadata": {},
   "source": [
    "Jadi, yang perlu kita lakukan adalah menganalisis data untuk dapat menemukan pola dari fitur-fitur yang ada, yang membedakan satu apartment dengan yang lainnya.\n",
    "Selanjutnya, kita akan membangun suatu model regresi yang akan membantu agen properti untuk dapat menyediakan 'tool' prediksi harga jual apartment yang baru masuk dalam daftar Agen Penjualan Properti, yang mana akan berguna untuk tuan rumah dalam menentukan harga jual apartmentnya."
   ]
  },
  {
   "cell_type": "markdown",
   "metadata": {},
   "source": [
    "**Metric Evaluation**"
   ]
  },
  {
   "cell_type": "markdown",
   "metadata": {},
   "source": [
    "Diantara Evaluasi metrik yang sering digunakan untuk memprediksi seperti MSE, RMSE dan MAPE, kali ini saya memilih mengggunaka **MAE**. Dimana MAE adalah rataan nilai absolut dari error. Cara kerja nya adalah Semakin kecil nilai MAE yang dihasilkan, berarti model semakin akurat dalam memprediksi harga sewa sesuai dengan limitasi fitur yang digunakan. "
   ]
  },
  {
   "cell_type": "markdown",
   "metadata": {},
   "source": [
    "## **Data Understanding**"
   ]
  },
  {
   "cell_type": "markdown",
   "metadata": {},
   "source": [
    "- Dataset merupakan data transaksi apartement dari Agustus 2007 hingga Agustus 2017 di Daebong, kota Daegu, Korea Selatan yang diambil dari laman data.go.kr.\n",
    "- Setiap baris data merepresentasikan informasi terkait keadaan apartment hingga harga penjualan apartment tersebut.\n",
    "- Dataset terdiri dari 4123 baris dan 11 kolom.\n",
    "\n",
    "**Attributes Information**\n",
    "\n",
    "| **Attribute** | **Data Type** | **Description** |\n",
    "| --- | --- | --- |\n",
    "| HallwayType | Object | Tipe lorong masuk apartment  |\n",
    "| TimeToSubway | Object | Waktu yang dibutuhkan menuju Stasiun Subway (min) |\n",
    "| SubwayStation | Object | Nama Stasiun Subway terdekat |\n",
    "| N_FacilitiesNearBy(ETC) | Float | Jumlah fasilitas di dekat apartment seperti hotel, sekolah berkebutuhan khusus |\n",
    "| N_FacilitiesNearBy(PublicOffice) | Float | Jumlah Kantor Layanan Publik di dekat apartment |\n",
    "| N_SchoolNearBy(University) | Float | Jumlah Universitas di dekat apartment |\n",
    "| N_Parkinglot(Basement) | Float | Jumlah lahan parkir di basement |\n",
    "| YearBuilt | Integer | Tahun dibangun |\n",
    "| N_FacilitiesInApt | Integer | Jumlah fasilitas untuk penghuni seperti kolam renang, gym, taman bermain |\n",
    "| Size(sqf) | Integer | Luas apartment |\n",
    "| SalePrice | Integer | Harga apartment (US dollar) |\n",
    "\n",
    "\n",
    "<br>"
   ]
  },
  {
   "cell_type": "code",
   "execution_count": 1,
   "metadata": {},
   "outputs": [],
   "source": [
    "# Import library yang dibutuhkan untuk eksplorasi dataset\n",
    "import pandas as pd \n",
    "import numpy as np\n",
    "import matplotlib.pyplot as plt\n",
    "import seaborn as sns\n",
    "\n",
    "import warnings\n",
    "warnings.filterwarnings('ignore')"
   ]
  },
  {
   "cell_type": "code",
   "execution_count": 2,
   "metadata": {},
   "outputs": [
    {
     "data": {
      "text/html": [
       "<div>\n",
       "<style scoped>\n",
       "    .dataframe tbody tr th:only-of-type {\n",
       "        vertical-align: middle;\n",
       "    }\n",
       "\n",
       "    .dataframe tbody tr th {\n",
       "        vertical-align: top;\n",
       "    }\n",
       "\n",
       "    .dataframe thead th {\n",
       "        text-align: right;\n",
       "    }\n",
       "</style>\n",
       "<table border=\"1\" class=\"dataframe\">\n",
       "  <thead>\n",
       "    <tr style=\"text-align: right;\">\n",
       "      <th></th>\n",
       "      <th>HallwayType</th>\n",
       "      <th>TimeToSubway</th>\n",
       "      <th>SubwayStation</th>\n",
       "      <th>N_FacilitiesNearBy(ETC)</th>\n",
       "      <th>N_FacilitiesNearBy(PublicOffice)</th>\n",
       "      <th>N_SchoolNearBy(University)</th>\n",
       "      <th>N_Parkinglot(Basement)</th>\n",
       "      <th>YearBuilt</th>\n",
       "      <th>N_FacilitiesInApt</th>\n",
       "      <th>Size(sqf)</th>\n",
       "      <th>SalePrice</th>\n",
       "    </tr>\n",
       "  </thead>\n",
       "  <tbody>\n",
       "    <tr>\n",
       "      <th>0</th>\n",
       "      <td>terraced</td>\n",
       "      <td>0-5min</td>\n",
       "      <td>Kyungbuk_uni_hospital</td>\n",
       "      <td>0.0</td>\n",
       "      <td>3.0</td>\n",
       "      <td>2.0</td>\n",
       "      <td>1270.0</td>\n",
       "      <td>2007</td>\n",
       "      <td>10</td>\n",
       "      <td>1387</td>\n",
       "      <td>346017</td>\n",
       "    </tr>\n",
       "    <tr>\n",
       "      <th>1</th>\n",
       "      <td>terraced</td>\n",
       "      <td>10min~15min</td>\n",
       "      <td>Kyungbuk_uni_hospital</td>\n",
       "      <td>1.0</td>\n",
       "      <td>5.0</td>\n",
       "      <td>1.0</td>\n",
       "      <td>0.0</td>\n",
       "      <td>1986</td>\n",
       "      <td>4</td>\n",
       "      <td>914</td>\n",
       "      <td>150442</td>\n",
       "    </tr>\n",
       "    <tr>\n",
       "      <th>2</th>\n",
       "      <td>mixed</td>\n",
       "      <td>15min~20min</td>\n",
       "      <td>Chil-sung-market</td>\n",
       "      <td>1.0</td>\n",
       "      <td>7.0</td>\n",
       "      <td>3.0</td>\n",
       "      <td>56.0</td>\n",
       "      <td>1997</td>\n",
       "      <td>5</td>\n",
       "      <td>558</td>\n",
       "      <td>61946</td>\n",
       "    </tr>\n",
       "    <tr>\n",
       "      <th>3</th>\n",
       "      <td>mixed</td>\n",
       "      <td>5min~10min</td>\n",
       "      <td>Bangoge</td>\n",
       "      <td>5.0</td>\n",
       "      <td>5.0</td>\n",
       "      <td>4.0</td>\n",
       "      <td>798.0</td>\n",
       "      <td>2005</td>\n",
       "      <td>7</td>\n",
       "      <td>914</td>\n",
       "      <td>165486</td>\n",
       "    </tr>\n",
       "    <tr>\n",
       "      <th>4</th>\n",
       "      <td>terraced</td>\n",
       "      <td>0-5min</td>\n",
       "      <td>Sin-nam</td>\n",
       "      <td>0.0</td>\n",
       "      <td>1.0</td>\n",
       "      <td>2.0</td>\n",
       "      <td>536.0</td>\n",
       "      <td>2006</td>\n",
       "      <td>5</td>\n",
       "      <td>1743</td>\n",
       "      <td>311504</td>\n",
       "    </tr>\n",
       "  </tbody>\n",
       "</table>\n",
       "</div>"
      ],
      "text/plain": [
       "  HallwayType TimeToSubway          SubwayStation  N_FacilitiesNearBy(ETC)  \\\n",
       "0    terraced       0-5min  Kyungbuk_uni_hospital                      0.0   \n",
       "1    terraced  10min~15min  Kyungbuk_uni_hospital                      1.0   \n",
       "2       mixed  15min~20min       Chil-sung-market                      1.0   \n",
       "3       mixed   5min~10min                Bangoge                      5.0   \n",
       "4    terraced       0-5min                Sin-nam                      0.0   \n",
       "\n",
       "   N_FacilitiesNearBy(PublicOffice)  N_SchoolNearBy(University)  \\\n",
       "0                               3.0                         2.0   \n",
       "1                               5.0                         1.0   \n",
       "2                               7.0                         3.0   \n",
       "3                               5.0                         4.0   \n",
       "4                               1.0                         2.0   \n",
       "\n",
       "   N_Parkinglot(Basement)  YearBuilt  N_FacilitiesInApt  Size(sqf)  SalePrice  \n",
       "0                  1270.0       2007                 10       1387     346017  \n",
       "1                     0.0       1986                  4        914     150442  \n",
       "2                    56.0       1997                  5        558      61946  \n",
       "3                   798.0       2005                  7        914     165486  \n",
       "4                   536.0       2006                  5       1743     311504  "
      ]
     },
     "execution_count": 2,
     "metadata": {},
     "output_type": "execute_result"
    }
   ],
   "source": [
    "# Load dataset\n",
    "df = pd.read_csv('data_daegu_apartment.csv')\n",
    "df.head()"
   ]
  },
  {
   "cell_type": "markdown",
   "metadata": {},
   "source": [
    "#### **Exploratory Data Analysis**"
   ]
  },
  {
   "cell_type": "markdown",
   "metadata": {},
   "source": [
    "**Distribution of Daegu Apartment SalePrice**"
   ]
  },
  {
   "cell_type": "code",
   "execution_count": 3,
   "metadata": {},
   "outputs": [
    {
     "data": {
      "image/png": "[encoded data removed]",
      "text/plain": [
       "<Figure size 504x504 with 1 Axes>"
      ]
     },
     "metadata": {
      "needs_background": "light"
     },
     "output_type": "display_data"
    }
   ],
   "source": [
    "# Plot distribusi fitur 'SalePrice'\n",
    "plt.figure(figsize=(7, 7))\n",
    "sns.distplot(df['SalePrice'])\n",
    "plt.title('SalePrice Distribution Plot', size=15, weight='bold');"
   ]
  },
  {
   "cell_type": "markdown",
   "metadata": {},
   "source": [
    "Berdasarkan plot distribusi harga apartment di atas, terlihat bahwa terdapat 'right-skewed distribution'. Dengan kata lain, terdapat skewness positif pada fitur SalePrice."
   ]
  },
  {
   "cell_type": "markdown",
   "metadata": {},
   "source": [
    "**HallwayType dan YearBuilt**"
   ]
  },
  {
   "cell_type": "code",
   "execution_count": 4,
   "metadata": {},
   "outputs": [
    {
     "data": {
      "image/png": "[encoded data removed]",
      "text/plain": [
       "<Figure size 720x432 with 1 Axes>"
      ]
     },
     "metadata": {
      "needs_background": "light"
     },
     "output_type": "display_data"
    }
   ],
   "source": [
    "plt.subplots(figsize=(10,6))\n",
    "sns.boxplot(x='HallwayType', y='YearBuilt', data=df, palette='YlOrBr');"
   ]
  },
  {
   "cell_type": "markdown",
   "metadata": {},
   "source": [
    "Berdasarkan boxplot di atas sebelum tahun 1995 lebih banyak apartment menggunakan hallway tipe corridor, sedangkan antara tahun 1995 dan 2005 apartment sudah mengenal hallway tipe terraced sehingga sudah mulai memakai tipe terraced namun tetap memakai tipe corridor, sementara itu corridor hallway sudah jarang digunakan setelah tahun 2005. "
   ]
  },
  {
   "cell_type": "markdown",
   "metadata": {},
   "source": [
    "# **Data Preprocessing**"
   ]
  },
  {
   "cell_type": "markdown",
   "metadata": {},
   "source": [
    "Pada tahap ini, akan dilakukan cleaning pada data yang nantinya data yang sudah dibersihkan akan kita gunakan untuk proses analisis selanjutnya. "
   ]
  },
  {
   "cell_type": "code",
   "execution_count": 5,
   "metadata": {},
   "outputs": [
    {
     "data": {
      "text/html": [
       "<div>\n",
       "<style scoped>\n",
       "    .dataframe tbody tr th:only-of-type {\n",
       "        vertical-align: middle;\n",
       "    }\n",
       "\n",
       "    .dataframe tbody tr th {\n",
       "        vertical-align: top;\n",
       "    }\n",
       "\n",
       "    .dataframe thead th {\n",
       "        text-align: right;\n",
       "    }\n",
       "</style>\n",
       "<table border=\"1\" class=\"dataframe\">\n",
       "  <thead>\n",
       "    <tr style=\"text-align: right;\">\n",
       "      <th></th>\n",
       "      <th>dataFeatures</th>\n",
       "      <th>dataType</th>\n",
       "      <th>null</th>\n",
       "      <th>unique</th>\n",
       "      <th>uniqueSample</th>\n",
       "    </tr>\n",
       "  </thead>\n",
       "  <tbody>\n",
       "    <tr>\n",
       "      <th>0</th>\n",
       "      <td>HallwayType</td>\n",
       "      <td>object</td>\n",
       "      <td>0</td>\n",
       "      <td>3</td>\n",
       "      <td>[terraced, corridor, mixed]</td>\n",
       "    </tr>\n",
       "    <tr>\n",
       "      <th>1</th>\n",
       "      <td>TimeToSubway</td>\n",
       "      <td>object</td>\n",
       "      <td>0</td>\n",
       "      <td>5</td>\n",
       "      <td>[0-5min, 15min~20min, no_bus_stop_nearby]</td>\n",
       "    </tr>\n",
       "    <tr>\n",
       "      <th>2</th>\n",
       "      <td>SubwayStation</td>\n",
       "      <td>object</td>\n",
       "      <td>0</td>\n",
       "      <td>8</td>\n",
       "      <td>[Sin-nam, no_subway_nearby, Myung-duk]</td>\n",
       "    </tr>\n",
       "    <tr>\n",
       "      <th>3</th>\n",
       "      <td>N_FacilitiesNearBy(ETC)</td>\n",
       "      <td>float64</td>\n",
       "      <td>0</td>\n",
       "      <td>4</td>\n",
       "      <td>[5.0, 2.0, 0.0]</td>\n",
       "    </tr>\n",
       "    <tr>\n",
       "      <th>4</th>\n",
       "      <td>N_FacilitiesNearBy(PublicOffice)</td>\n",
       "      <td>float64</td>\n",
       "      <td>0</td>\n",
       "      <td>8</td>\n",
       "      <td>[7.0, 0.0, 3.0]</td>\n",
       "    </tr>\n",
       "    <tr>\n",
       "      <th>5</th>\n",
       "      <td>N_SchoolNearBy(University)</td>\n",
       "      <td>float64</td>\n",
       "      <td>0</td>\n",
       "      <td>6</td>\n",
       "      <td>[0.0, 2.0, 3.0]</td>\n",
       "    </tr>\n",
       "    <tr>\n",
       "      <th>6</th>\n",
       "      <td>N_Parkinglot(Basement)</td>\n",
       "      <td>float64</td>\n",
       "      <td>0</td>\n",
       "      <td>20</td>\n",
       "      <td>[218.0, 56.0, 0.0]</td>\n",
       "    </tr>\n",
       "    <tr>\n",
       "      <th>7</th>\n",
       "      <td>YearBuilt</td>\n",
       "      <td>int64</td>\n",
       "      <td>0</td>\n",
       "      <td>16</td>\n",
       "      <td>[2008, 2006, 2014]</td>\n",
       "    </tr>\n",
       "    <tr>\n",
       "      <th>8</th>\n",
       "      <td>N_FacilitiesInApt</td>\n",
       "      <td>int64</td>\n",
       "      <td>0</td>\n",
       "      <td>9</td>\n",
       "      <td>[9, 8, 1]</td>\n",
       "    </tr>\n",
       "    <tr>\n",
       "      <th>9</th>\n",
       "      <td>Size(sqf)</td>\n",
       "      <td>int64</td>\n",
       "      <td>0</td>\n",
       "      <td>89</td>\n",
       "      <td>[213, 1761, 1643]</td>\n",
       "    </tr>\n",
       "    <tr>\n",
       "      <th>10</th>\n",
       "      <td>SalePrice</td>\n",
       "      <td>int64</td>\n",
       "      <td>0</td>\n",
       "      <td>838</td>\n",
       "      <td>[438053, 340707, 333628]</td>\n",
       "    </tr>\n",
       "  </tbody>\n",
       "</table>\n",
       "</div>"
      ],
      "text/plain": [
       "                        dataFeatures dataType  null  unique  \\\n",
       "0                        HallwayType   object     0       3   \n",
       "1                       TimeToSubway   object     0       5   \n",
       "2                      SubwayStation   object     0       8   \n",
       "3            N_FacilitiesNearBy(ETC)  float64     0       4   \n",
       "4   N_FacilitiesNearBy(PublicOffice)  float64     0       8   \n",
       "5         N_SchoolNearBy(University)  float64     0       6   \n",
       "6             N_Parkinglot(Basement)  float64     0      20   \n",
       "7                          YearBuilt    int64     0      16   \n",
       "8                  N_FacilitiesInApt    int64     0       9   \n",
       "9                          Size(sqf)    int64     0      89   \n",
       "10                         SalePrice    int64     0     838   \n",
       "\n",
       "                                 uniqueSample  \n",
       "0                 [terraced, corridor, mixed]  \n",
       "1   [0-5min, 15min~20min, no_bus_stop_nearby]  \n",
       "2      [Sin-nam, no_subway_nearby, Myung-duk]  \n",
       "3                             [5.0, 2.0, 0.0]  \n",
       "4                             [7.0, 0.0, 3.0]  \n",
       "5                             [0.0, 2.0, 3.0]  \n",
       "6                          [218.0, 56.0, 0.0]  \n",
       "7                          [2008, 2006, 2014]  \n",
       "8                                   [9, 8, 1]  \n",
       "9                           [213, 1761, 1643]  \n",
       "10                   [438053, 340707, 333628]  "
      ]
     },
     "execution_count": 5,
     "metadata": {},
     "output_type": "execute_result"
    }
   ],
   "source": [
    "# Cek info lebih detail untuk setiap fitur\n",
    "daeguItem = []\n",
    "\n",
    "for col in df.columns:\n",
    "    daeguItem.append([col, df[col].dtype, df[col].isna().sum(), df[col].nunique(), list(df[col].drop_duplicates().sample(3).values)]);\n",
    "\n",
    "df_desc = pd.DataFrame(columns=['dataFeatures', 'dataType', 'null', 'unique', 'uniqueSample'],\n",
    "                     data=daeguItem)\n",
    "df_desc"
   ]
  },
  {
   "cell_type": "markdown",
   "metadata": {},
   "source": [
    "**Missing Value**"
   ]
  },
  {
   "cell_type": "markdown",
   "metadata": {},
   "source": [
    "Berdasarkan dataframe di atas tidak terdapat missing value."
   ]
  },
  {
   "cell_type": "markdown",
   "metadata": {},
   "source": [
    "**Drop Kolom**"
   ]
  },
  {
   "cell_type": "markdown",
   "metadata": {},
   "source": [
    "Tidak ada Kolom yang perlu di drop, karena semua kolom berhubungan dengan kolom target."
   ]
  },
  {
   "cell_type": "markdown",
   "metadata": {},
   "source": [
    "**Data Correlation**"
   ]
  },
  {
   "cell_type": "code",
   "execution_count": 6,
   "metadata": {},
   "outputs": [
    {
     "data": {
      "image/png": "[encoded data removed]",
      "text/plain": [
       "<Figure size 1152x864 with 2 Axes>"
      ]
     },
     "metadata": {
      "needs_background": "light"
     },
     "output_type": "display_data"
    }
   ],
   "source": [
    "# Correlation Matrix\n",
    "plt.figure(figsize=(16,12))\n",
    "sns.heatmap(df.corr(), annot=True, cmap='summer_r',  fmt='.2f', square=True, linewidths=.5)\n",
    "plt.title('Correlation Matrix', size=25, weight='bold');"
   ]
  },
  {
   "cell_type": "markdown",
   "metadata": {},
   "source": [
    "- Berdasarkan correlation matrix di atas,  `SalePrice` memiliki korelasi yang cukup kuat dengan `Size(sqf)` sebesar 0,7\n",
    "- Hal ini menunjukkan apabila semakin besar ukuran apartment maka akan semakin mahal juga harga apartment tersebut\n",
    "- Selain itu, meskipun fitur lain memiliki korelasi rendah saya tidak akan menghapus kolom-kolom tersebut. Korelasi fitur lain rendah bisa jadi dikarenakan data yang kurang banyak. "
   ]
  },
  {
   "cell_type": "markdown",
   "metadata": {},
   "source": [
    "**Outliers Detection**"
   ]
  },
  {
   "cell_type": "markdown",
   "metadata": {},
   "source": [
    "Banyaknya outliers pada data tentu akan memengaruhi hasil analisis dan pemodelan yang dilakukan. Ada beberapa hal yang harus dipertimbangkan sebelum memutuskan treatment yang sesuai dengan data, di antaranya adalah dengan mempertimbangkan sisi domain knowledge."
   ]
  },
  {
   "cell_type": "code",
   "execution_count": 7,
   "metadata": {},
   "outputs": [
    {
     "data": {
      "image/png": "[encoded data removed]",
      "text/plain": [
       "<Figure size 1440x504 with 1 Axes>"
      ]
     },
     "metadata": {
      "needs_background": "light"
     },
     "output_type": "display_data"
    }
   ],
   "source": [
    "# Plot boxplot untuk mengecek outliers\n",
    "plt.figure(figsize=(20,7))\n",
    "sns.boxplot(data=df, palette=\"summer\");"
   ]
  },
  {
   "cell_type": "markdown",
   "metadata": {},
   "source": [
    "Berdasarkan boxplot di atas, fitur yang memiliki outliers adalah `SalePrice` dan `Size(sqf)`. Untuk membuat dataset yang lebih bersih dari outliers, saya akan melakukan beberapa rekayasa data pada fitur-fitur dengan mempertimbangkan kombinasi antara hasil dari metode IQR. Nantinya, model yang dihasilkan hanya terbatas dapat memprediksi listing baru yang nilai-nilainya pada rentang data berdasarkan 'clean dataset' ini saja. Di luar rentang data, hasil prediksi dari model akan menjadi bias."
   ]
  },
  {
   "cell_type": "code",
   "execution_count": 8,
   "metadata": {},
   "outputs": [],
   "source": [
    "# Membuat fungsi untuk mengecek outliers\n",
    "def outliers(data):\n",
    "    q1 = data.quantile(0.25)\n",
    "    q3 = data.quantile(0.75)\n",
    "    iqr = q3 - q1\n",
    "    limit = iqr*1.5\n",
    "    print(f'IQR: {iqr}')\n",
    "\n",
    "    lower = q1 - limit\n",
    "    upper = q3 + limit\n",
    "    print(f'limit_bawah: {lower}')\n",
    "    print(f'limit_atas: {upper}')        "
   ]
  },
  {
   "cell_type": "markdown",
   "metadata": {},
   "source": [
    "**SalePrice**"
   ]
  },
  {
   "cell_type": "code",
   "execution_count": 9,
   "metadata": {},
   "outputs": [
    {
     "data": {
      "text/plain": [
       "count      4123.000000\n",
       "mean     221767.926995\n",
       "std      106739.839945\n",
       "min       32743.000000\n",
       "25%      144752.000000\n",
       "50%      209734.000000\n",
       "75%      291150.000000\n",
       "max      585840.000000\n",
       "Name: SalePrice, dtype: float64"
      ]
     },
     "execution_count": 9,
     "metadata": {},
     "output_type": "execute_result"
    }
   ],
   "source": [
    "# Cek deskriptif statistik kolom SalePrice\n",
    "df['SalePrice'].describe()"
   ]
  },
  {
   "cell_type": "code",
   "execution_count": 10,
   "metadata": {},
   "outputs": [
    {
     "name": "stdout",
     "output_type": "stream",
     "text": [
      "IQR: 146398.0\n",
      "limit_bawah: -74845.0\n",
      "limit_atas: 510747.0\n"
     ]
    }
   ],
   "source": [
    "# Outliers pada fitur 'SalePrice'\n",
    "outliers(df['SalePrice'])"
   ]
  },
  {
   "cell_type": "code",
   "execution_count": 11,
   "metadata": {},
   "outputs": [],
   "source": [
    "# Drop data outlier pada data 'SalePrice'\n",
    "df = df[df['SalePrice'] <= 510747.0]"
   ]
  },
  {
   "cell_type": "code",
   "execution_count": 12,
   "metadata": {},
   "outputs": [
    {
     "data": {
      "text/plain": [
       "count      4096.000000\n",
       "mean     219692.548828\n",
       "std      103961.039574\n",
       "min       32743.000000\n",
       "25%      144752.000000\n",
       "50%      207964.000000\n",
       "75%      287610.000000\n",
       "max      508849.000000\n",
       "Name: SalePrice, dtype: float64"
      ]
     },
     "execution_count": 12,
     "metadata": {},
     "output_type": "execute_result"
    }
   ],
   "source": [
    "# Cek deskriptif statistik kolom 'SalePrice' setelah drop Outliers\n",
    "df['SalePrice'].describe()"
   ]
  },
  {
   "cell_type": "markdown",
   "metadata": {},
   "source": [
    "**Size(sqf)**"
   ]
  },
  {
   "cell_type": "code",
   "execution_count": 13,
   "metadata": {},
   "outputs": [
    {
     "data": {
      "text/plain": [
       "count    4096.000000\n",
       "mean      949.107178\n",
       "std       378.608713\n",
       "min       135.000000\n",
       "25%       644.000000\n",
       "50%       910.000000\n",
       "75%      1131.000000\n",
       "max      2337.000000\n",
       "Name: Size(sqf), dtype: float64"
      ]
     },
     "execution_count": 13,
     "metadata": {},
     "output_type": "execute_result"
    }
   ],
   "source": [
    "# Cek deskriptif statistik kolom Size(sqf)\n",
    "df['Size(sqf)'].describe()"
   ]
  },
  {
   "cell_type": "code",
   "execution_count": 14,
   "metadata": {},
   "outputs": [
    {
     "name": "stdout",
     "output_type": "stream",
     "text": [
      "IQR: 487.0\n",
      "limit_bawah: -86.5\n",
      "limit_atas: 1861.5\n"
     ]
    }
   ],
   "source": [
    "# Outliers pada fitur 'Size(sqf)'\n",
    "outliers(df['Size(sqf)'])"
   ]
  },
  {
   "cell_type": "code",
   "execution_count": 15,
   "metadata": {},
   "outputs": [],
   "source": [
    "# Drop data outlier pada data 'Size(sqf)'\n",
    "df = df[df['Size(sqf)'] <= 1861.5]"
   ]
  },
  {
   "cell_type": "code",
   "execution_count": 16,
   "metadata": {},
   "outputs": [
    {
     "data": {
      "text/plain": [
       "count    4015.000000\n",
       "mean      925.216936\n",
       "std       341.828592\n",
       "min       135.000000\n",
       "25%       644.000000\n",
       "50%       910.000000\n",
       "75%      1131.000000\n",
       "max      1796.000000\n",
       "Name: Size(sqf), dtype: float64"
      ]
     },
     "execution_count": 16,
     "metadata": {},
     "output_type": "execute_result"
    }
   ],
   "source": [
    "# Cek deskriptif statistik kolom 'Size(sqf)' setelah drop Outliers\n",
    "df['Size(sqf)'].describe()"
   ]
  },
  {
   "cell_type": "markdown",
   "metadata": {},
   "source": [
    "- Drop data outlier pada fitur `SalePrice` dengan batas atas  yaitu 510747 USD. Maka, data yang digunakan hanya apartment yang memiliki harga jual kurang dari dengan 510747 USD.\n",
    "- Drop data outlier pada fitur `Size(sqf)` dengan batas atas  yaitu 1861.5 sqf. Maka, data yang digunakan hanya apartment yang memiliki luas kurang dari dengan 1861.5 sqf.\n",
    "- Kegiatan ini bisa disebut project limitation dengan harga jual kurang dari 510747 USD serta bangunan yang luasnya tidak lebih dari 1861.5 sqf."
   ]
  },
  {
   "cell_type": "markdown",
   "metadata": {},
   "source": [
    "# **Modelling**"
   ]
  },
  {
   "cell_type": "markdown",
   "metadata": {},
   "source": [
    "**Import Library Machine Learning**"
   ]
  },
  {
   "cell_type": "code",
   "execution_count": 17,
   "metadata": {},
   "outputs": [],
   "source": [
    "# Feature Engineering\n",
    "import category_encoders as ce\n",
    "from sklearn.preprocessing import OneHotEncoder, LabelEncoder, OrdinalEncoder\n",
    "from sklearn.compose import ColumnTransformer\n",
    "from sklearn.pipeline import Pipeline\n",
    "from sklearn.preprocessing import StandardScaler\n",
    "\n",
    "# Model Selection & Tuning\n",
    "from sklearn.model_selection import train_test_split, cross_val_score, RandomizedSearchCV, GridSearchCV, KFold\n",
    "\n",
    "# Algoritma Modelling Machine Learning\n",
    "from sklearn.linear_model import LinearRegression\n",
    "from sklearn.neighbors import KNeighborsRegressor\n",
    "from sklearn.tree import DecisionTreeRegressor\n",
    "from sklearn.ensemble import RandomForestRegressor, GradientBoostingRegressor\n",
    "from xgboost.sklearn import XGBRegressor\n",
    "from sklearn.compose import TransformedTargetRegressor\n",
    "\n",
    "# Metrics\n",
    "from sklearn.metrics import r2_score, mean_squared_error, mean_absolute_error, mean_absolute_percentage_error"
   ]
  },
  {
   "cell_type": "markdown",
   "metadata": {},
   "source": [
    "**Encoding**"
   ]
  },
  {
   "cell_type": "markdown",
   "metadata": {},
   "source": [
    "- Pada dataset ini terdapat fitur yang memiliki tipe data Object, untuk dapat digunakan dalam machine learning maka harus dilakukan encoding.\n",
    "- `HallwayType` dilakukan encoding menggunakan OneHotEncoding karena hanya memiliki 3 kategori\n",
    "- `SubwayStation` dilakukan encoding menggunakan Binary Encoding karena hanya memiliki 8 kategori\n",
    "- `TimeToSubway` dilakukan encoding menggunakan Ordinal Encoding karena data akan diurutkan menjadi semakin tinggi nilai skor kategori semakin bagus yang artinya semakin dekat dengan Subway "
   ]
  },
  {
   "cell_type": "code",
   "execution_count": 18,
   "metadata": {},
   "outputs": [],
   "source": [
    "# Ordinal Maping, mengubah menjadi\n",
    "ordinalmap = [{'col':'TimeToSubway', 'mapping':{'0-5min':4, '5min~10min':3, '10min~15min':2, '15min~20min':1, 'no_bus_stop_nearby':0,} }]\n",
    "\n",
    "Ordinal_Encoder = ce.OrdinalEncoder(cols=['TimeToSubway'], mapping=ordinalmap)\n",
    "\n",
    "# Melakukan Encoding\n",
    "transformer = ColumnTransformer([\n",
    "    ('OneHot', OneHotEncoder(), ['HallwayType']),\n",
    "    ('Binary', ce.BinaryEncoder(), ['SubwayStation']),\n",
    "    ('Ordinal', Ordinal_Encoder, ['TimeToSubway'])\n",
    "], remainder='passthrough')     # remainder digunakan untuk menghandle Kolom yang tidak di define di Transformer"
   ]
  },
  {
   "cell_type": "markdown",
   "metadata": {},
   "source": [
    "**Data Splitting**"
   ]
  },
  {
   "cell_type": "markdown",
   "metadata": {},
   "source": [
    "- X = Kolom Features\n",
    "- Y = Kolom Target"
   ]
  },
  {
   "cell_type": "code",
   "execution_count": 19,
   "metadata": {},
   "outputs": [],
   "source": [
    "# Splitting data menjadi data independent dan data dependent/target\n",
    "X = df.drop(['SalePrice'], axis=1)\n",
    "y = df['SalePrice']"
   ]
  },
  {
   "cell_type": "markdown",
   "metadata": {},
   "source": [
    "**Train and Test Splitting**"
   ]
  },
  {
   "cell_type": "markdown",
   "metadata": {},
   "source": [
    "- test_size = .25,  Proporsi data yang akan digunakan untuk testing = 25%\n",
    "- Sisanya akan digunakan untuk Training = 75%"
   ]
  },
  {
   "cell_type": "code",
   "execution_count": 20,
   "metadata": {},
   "outputs": [],
   "source": [
    "# Splitting data menjadi data train dan data test dengan proporsi 75 : 25\n",
    "X_train, X_test, y_train, y_test = train_test_split(X, y, test_size=0.25, random_state=20)"
   ]
  },
  {
   "cell_type": "code",
   "execution_count": 21,
   "metadata": {},
   "outputs": [
    {
     "name": "stdout",
     "output_type": "stream",
     "text": [
      "[-43744.56958537 -43117.54644228 -41393.70923567 -44365.21355514\n",
      " -41953.67999179] TransformedTargetRegressor(func=<ufunc 'log'>, inverse_func=<ufunc 'exp'>,\n",
      "                           regressor=LinearRegression())\n",
      "[-34988.45198657 -34701.38464864 -33937.20669973 -35321.47002686\n",
      " -32375.32201907] TransformedTargetRegressor(func=<ufunc 'log'>, inverse_func=<ufunc 'exp'>,\n",
      "                           regressor=KNeighborsRegressor())\n",
      "[-33447.02159254 -32619.58806594 -32788.84107446 -33734.10756799\n",
      " -31132.652648  ] TransformedTargetRegressor(func=<ufunc 'log'>, inverse_func=<ufunc 'exp'>,\n",
      "                           regressor=DecisionTreeRegressor(random_state=20))\n",
      "[-33297.8719894  -32642.73751066 -32654.05124276 -33707.70317672\n",
      " -31051.86697999] TransformedTargetRegressor(func=<ufunc 'log'>, inverse_func=<ufunc 'exp'>,\n",
      "                           regressor=RandomForestRegressor(random_state=20))\n",
      "[-33266.81308302 -32560.80707537 -32767.37578514 -33725.501155\n",
      " -31102.7703683 ] TransformedTargetRegressor(func=<ufunc 'log'>, inverse_func=<ufunc 'exp'>,\n",
      "                           regressor=XGBRegressor(base_score=None, booster=None,\n",
      "                                                  callbacks=None,\n",
      "                                                  colsample_bylevel=None,\n",
      "                                                  colsample_bynode=None,\n",
      "                                                  colsample_bytree=None,\n",
      "                                                  early_stopping_rounds=None,\n",
      "                                                  enable_categorical=False,\n",
      "                                                  eval_metric=None, gamma=None,\n",
      "                                                  gpu_id=None, grow_policy=None,\n",
      "                                                  importance_type=None,\n",
      "                                                  interaction_constraints=None,\n",
      "                                                  learning_rate=None,\n",
      "                                                  max_bin=None,\n",
      "                                                  max_cat_to_onehot=None,\n",
      "                                                  max_delta_step=None,\n",
      "                                                  max_depth=None,\n",
      "                                                  max_leaves=None,\n",
      "                                                  min_child_weight=None,\n",
      "                                                  missing=nan,\n",
      "                                                  monotone_constraints=None,\n",
      "                                                  n_estimators=100, n_jobs=None,\n",
      "                                                  num_parallel_tree=None,\n",
      "                                                  predictor=None,\n",
      "                                                  random_state=20,\n",
      "                                                  reg_alpha=None,\n",
      "                                                  reg_lambda=None, ...))\n"
     ]
    }
   ],
   "source": [
    "# Define algoritma yang digunakan\n",
    "lr = LinearRegression()\n",
    "knn = KNeighborsRegressor()\n",
    "dt = DecisionTreeRegressor(random_state=20)\n",
    "rf = RandomForestRegressor(random_state=20)\n",
    "xgb = XGBRegressor(random_state=20)\n",
    "\n",
    "# Pemodelan dilakukan dalam skala logaritmik, namun kemudian di-inverse kembali untuk interpretasi\n",
    "log_lr = TransformedTargetRegressor(lr, func=np.log, inverse_func=np.exp)\n",
    "log_knn = TransformedTargetRegressor(knn, func=np.log, inverse_func=np.exp)\n",
    "log_dt = TransformedTargetRegressor(dt, func=np.log, inverse_func=np.exp)\n",
    "log_rf = TransformedTargetRegressor(rf, func=np.log, inverse_func=np.exp)\n",
    "log_xgb = TransformedTargetRegressor(xgb, func=np.log, inverse_func=np.exp)\n",
    "\n",
    "# Scaling data\n",
    "scaler = StandardScaler()\n",
    "\n",
    "# Kandidat algoritma\n",
    "models = [log_lr, log_knn, log_dt, log_rf, log_xgb]\n",
    "\n",
    "score_mae = []\n",
    "nilai_mean_mae = []\n",
    "nilai_std_mae = []\n",
    "\n",
    "\n",
    "# Mencari algoritma terbaik berdasarkan nilai MAE\n",
    "for i in models:\n",
    "    \n",
    "    crossval = KFold(n_splits=5, shuffle=True, random_state=20) # Jumlah Fold\n",
    "\n",
    "    estimator = Pipeline([\n",
    "        ('preprocessing', transformer),\n",
    "        ('scaler', scaler),\n",
    "        ('model', i)\n",
    "    ])\n",
    "\n",
    "    # MAE\n",
    "    model_cv_mae = cross_val_score(\n",
    "        estimator, \n",
    "        X_train, \n",
    "        y_train, \n",
    "        cv=crossval, \n",
    "        scoring='neg_mean_absolute_error', \n",
    "        error_score='raise'\n",
    "        )\n",
    "\n",
    "    print(model_cv_mae, i)\n",
    "\n",
    "    score_mae.append(model_cv_mae)\n",
    "    nilai_mean_mae.append(model_cv_mae.mean())\n",
    "    nilai_std_mae.append(model_cv_mae.std())\n"
   ]
  },
  {
   "cell_type": "code",
   "execution_count": 22,
   "metadata": {},
   "outputs": [
    {
     "name": "stdout",
     "output_type": "stream",
     "text": [
      "Hasil Training \n"
     ]
    },
    {
     "data": {
      "text/html": [
       "<div>\n",
       "<style scoped>\n",
       "    .dataframe tbody tr th:only-of-type {\n",
       "        vertical-align: middle;\n",
       "    }\n",
       "\n",
       "    .dataframe tbody tr th {\n",
       "        vertical-align: top;\n",
       "    }\n",
       "\n",
       "    .dataframe thead th {\n",
       "        text-align: right;\n",
       "    }\n",
       "</style>\n",
       "<table border=\"1\" class=\"dataframe\">\n",
       "  <thead>\n",
       "    <tr style=\"text-align: right;\">\n",
       "      <th></th>\n",
       "      <th>Model</th>\n",
       "      <th>Mean_MAE</th>\n",
       "      <th>Std_MAE</th>\n",
       "    </tr>\n",
       "  </thead>\n",
       "  <tbody>\n",
       "    <tr>\n",
       "      <th>3</th>\n",
       "      <td>Training RandomForest Regressor</td>\n",
       "      <td>-32670.846180</td>\n",
       "      <td>904.477707</td>\n",
       "    </tr>\n",
       "    <tr>\n",
       "      <th>4</th>\n",
       "      <td>Training XGBoost Regressor</td>\n",
       "      <td>-32684.653493</td>\n",
       "      <td>888.460329</td>\n",
       "    </tr>\n",
       "    <tr>\n",
       "      <th>2</th>\n",
       "      <td>Training DecisionTree Regressor</td>\n",
       "      <td>-32744.442190</td>\n",
       "      <td>904.265527</td>\n",
       "    </tr>\n",
       "    <tr>\n",
       "      <th>1</th>\n",
       "      <td>Training KNN Regressor</td>\n",
       "      <td>-34264.767076</td>\n",
       "      <td>1049.597476</td>\n",
       "    </tr>\n",
       "    <tr>\n",
       "      <th>0</th>\n",
       "      <td>Training Linear Regression</td>\n",
       "      <td>-42914.943762</td>\n",
       "      <td>1101.888547</td>\n",
       "    </tr>\n",
       "  </tbody>\n",
       "</table>\n",
       "</div>"
      ],
      "text/plain": [
       "                             Model      Mean_MAE      Std_MAE\n",
       "3  Training RandomForest Regressor -32670.846180   904.477707\n",
       "4       Training XGBoost Regressor -32684.653493   888.460329\n",
       "2  Training DecisionTree Regressor -32744.442190   904.265527\n",
       "1           Training KNN Regressor -34264.767076  1049.597476\n",
       "0       Training Linear Regression -42914.943762  1101.888547"
      ]
     },
     "execution_count": 22,
     "metadata": {},
     "output_type": "execute_result"
    }
   ],
   "source": [
    "# Evaluasi hasil dari 5 kandidat algoritma yang digunakan\n",
    "model_matrix_train=pd.DataFrame({\n",
    "    'Model': ['Training Linear Regression', 'Training KNN Regressor', 'Training DecisionTree Regressor', 'Training RandomForest Regressor', 'Training XGBoost Regressor'],\n",
    "    'Mean_MAE': nilai_mean_mae,\n",
    "    'Std_MAE': nilai_std_mae,})\n",
    "\n",
    "print('Hasil Training ')\n",
    "model_matrix_train.sort_values(by='Mean_MAE', ascending=False)"
   ]
  },
  {
   "cell_type": "markdown",
   "metadata": {},
   "source": [
    "Berdasarkan hasil training di atas, terdapat 3 model algoritma yang memiliki nilai terbaik yaitu RandomForest, XGBoost dan DecisionTree. Hal itu dapat dilihat dari nilai **Mean Absolute Error (MAE)** yang terlampau rendah. Selain itu Standar Deviasi ketiga model tersebut sama-sama cukup rendah. Karena ketiganya memiliki perbedaan yang cukup kecil pada mean maupun standar deviasi, maka saya akan menggunakan ketiganya untuk dilakukan prediksi pada test set. "
   ]
  },
  {
   "cell_type": "markdown",
   "metadata": {},
   "source": [
    "**Predict to Test Set with the Benchmark Model**\n",
    "\n",
    "Prediksi pada test set dengan menggunakan model Random Forest, XGBoost dan Decision Tree"
   ]
  },
  {
   "cell_type": "code",
   "execution_count": 23,
   "metadata": {},
   "outputs": [
    {
     "name": "stdout",
     "output_type": "stream",
     "text": [
      "Hasil Testing Sebelum Tuning\n"
     ]
    },
    {
     "data": {
      "text/html": [
       "<div>\n",
       "<style scoped>\n",
       "    .dataframe tbody tr th:only-of-type {\n",
       "        vertical-align: middle;\n",
       "    }\n",
       "\n",
       "    .dataframe tbody tr th {\n",
       "        vertical-align: top;\n",
       "    }\n",
       "\n",
       "    .dataframe thead th {\n",
       "        text-align: right;\n",
       "    }\n",
       "</style>\n",
       "<table border=\"1\" class=\"dataframe\">\n",
       "  <thead>\n",
       "    <tr style=\"text-align: right;\">\n",
       "      <th></th>\n",
       "      <th>MAE</th>\n",
       "    </tr>\n",
       "  </thead>\n",
       "  <tbody>\n",
       "    <tr>\n",
       "      <th>XGBoost Regression</th>\n",
       "      <td>32889.838435</td>\n",
       "    </tr>\n",
       "    <tr>\n",
       "      <th>DecisionTree Regression</th>\n",
       "      <td>32890.160570</td>\n",
       "    </tr>\n",
       "    <tr>\n",
       "      <th>RandomForest Regression</th>\n",
       "      <td>32903.674097</td>\n",
       "    </tr>\n",
       "  </tbody>\n",
       "</table>\n",
       "</div>"
      ],
      "text/plain": [
       "                                  MAE\n",
       "XGBoost Regression       32889.838435\n",
       "DecisionTree Regression  32890.160570\n",
       "RandomForest Regression  32903.674097"
      ]
     },
     "execution_count": 23,
     "metadata": {},
     "output_type": "execute_result"
    }
   ],
   "source": [
    "# Benchmark 3 model terbaik\n",
    "models = {\n",
    "    'DecisionTree Regression': DecisionTreeRegressor(random_state=20),\n",
    "    'RandomForest Regression': RandomForestRegressor(random_state=20),\n",
    "    'XGBoost Regression': XGBRegressor(random_state=20)}\n",
    "\n",
    "score_mae = []\n",
    "\n",
    "# Prediksi pada test set\n",
    "for i in models:\n",
    "\n",
    "    model = Pipeline([\n",
    "        ('preprocessing', transformer),\n",
    "        ('scaler', scaler),\n",
    "        ('model', models[i])\n",
    "        ])\n",
    "\n",
    "    model.fit(X_train, y_train)\n",
    "    y_pred = model.predict(X_test)\n",
    "    score_mae.append(mean_absolute_error(y_test, y_pred))\n",
    "\n",
    "score_before_tuning = pd.DataFrame({'MAE': score_mae}, index=models.keys())\n",
    "\n",
    "print('Hasil Testing Sebelum Tuning')\n",
    "score_before_tuning.sort_values(by='MAE')"
   ]
  },
  {
   "cell_type": "markdown",
   "metadata": {},
   "source": [
    "Hasil testing di atas menunjukkan bahwa **XGBoost** memiliki nilai terendah, namun kedua algoritma lainnya tidak memiliki perbedaan yang signifikan. Oleh karena itu, saya akan menggunakan ketiga model untuk dilakukan Hyperparameter Tuning."
   ]
  },
  {
   "cell_type": "markdown",
   "metadata": {},
   "source": [
    "**Hyperparameter Tuning**"
   ]
  },
  {
   "cell_type": "markdown",
   "metadata": {},
   "source": [
    "- Mengukur seberapa baik suatu model dapat menggeneralisasi serta bagaimana perbandingannya dengan model lainnya dengan menggunakan Cross Validasi.\n",
    "- Saat ini saya menggunakan metode **RandomizedSearchCV** untuk melakukan hyperparameter Tuning karena tidak memakan waktu yang lama dan saya juga menggunakan 3 algoritma, walaupun **RandomizedSearchCV** tidak menjamin mendapatkan nilai terbaik."
   ]
  },
  {
   "cell_type": "markdown",
   "metadata": {},
   "source": [
    "**XGBoost**"
   ]
  },
  {
   "cell_type": "code",
   "execution_count": 24,
   "metadata": {},
   "outputs": [],
   "source": [
    "# Kedalaman pohon, Nilainya Integer\n",
    "max_depth = list(np.arange(1, 11))\n",
    "\n",
    "# Learning rate, Nilainya Float\n",
    "learning_rate = list(np.arange(1, 100)/100)\n",
    "\n",
    "# Jumlah pohon, memiliki rentang dalam ratusan, Nilainya Integer\n",
    "n_estimators = list(np.arange(100, 201))\n",
    "\n",
    "# Jumlah baris tiap pohon (% dari total baris train set)\n",
    "subsample = list(np.arange(2, 10)/10)\n",
    "\n",
    "# Gamma (min_impurity_decrease), Berapa error yang diharapkan turun agar Tree bisa Split, Nilainya Float\n",
    "gamma = list(np.arange(1, 11)) # Semakin besar nilainya, semakin konservatif/simpel modelnya\n",
    "\n",
    "# Jumlah feature yang digunakan untuk tiap pohon (% dari total kolom train set)\n",
    "colsample_bytree = list(np.arange(1, 10)/10)\n",
    "\n",
    "# Alpha (regularization)\n",
    "reg_alpha = list(np.logspace(-3, 1, 10)) # Semakin besar nilainya, semakin konservatif/simpel modelnya\n",
    "\n",
    "\n",
    "# Hyperparam space XGboost\n",
    "hyperparam_space_xgb = {\n",
    "    'model__max_depth': max_depth, \n",
    "    'model__learning_rate': learning_rate,\n",
    "    'model__n_estimators': n_estimators,\n",
    "    'model__subsample': subsample,\n",
    "    'model__gamma': gamma,\n",
    "    'model__colsample_bytree': colsample_bytree,\n",
    "    'model__reg_alpha': reg_alpha\n",
    "}"
   ]
  },
  {
   "cell_type": "code",
   "execution_count": 25,
   "metadata": {},
   "outputs": [],
   "source": [
    "# Benchmark model dengan hyperparameter tuning\n",
    "xgb = XGBRegressor(random_state=20, verbosity=0)\n",
    "\n",
    "# Membuat algorithm chains\n",
    "estimator_xgb = Pipeline([\n",
    "        ('preprocessing', transformer),\n",
    "        ('scaler', scaler),\n",
    "        ('model', xgb)\n",
    "        ])\n",
    "\n",
    "crossval = KFold(n_splits=5, shuffle=True, random_state=20)\n",
    "\n",
    "# Hyperparameter tuning\n",
    "random_xgb = RandomizedSearchCV(\n",
    "    estimator_xgb, \n",
    "    param_distributions = hyperparam_space_xgb,\n",
    "    n_iter = 50,\n",
    "    cv = crossval, \n",
    "    scoring = ['neg_root_mean_squared_error', 'neg_mean_absolute_error', 'neg_mean_absolute_percentage_error'], \n",
    "    n_jobs = -1,\n",
    "    refit = 'neg_root_mean_squared_error', # Hanya bisa memilih salah stau metric untuk optimisasi\n",
    "    random_state = 1\n",
    "\n",
    ")"
   ]
  },
  {
   "cell_type": "code",
   "execution_count": 26,
   "metadata": {},
   "outputs": [
    {
     "data": {
      "text/html": [
       "<style>#sk-container-id-1 {color: black;background-color: white;}#sk-container-id-1 pre{padding: 0;}#sk-container-id-1 div.sk-toggleable {background-color: white;}#sk-container-id-1 label.sk-toggleable__label {cursor: pointer;display: block;width: 100%;margin-bottom: 0;padding: 0.3em;box-sizing: border-box;text-align: center;}#sk-container-id-1 label.sk-toggleable__label-arrow:before {content: \"▸\";float: left;margin-right: 0.25em;color: #696969;}#sk-container-id-1 label.sk-toggleable__label-arrow:hover:before {color: black;}#sk-container-id-1 div.sk-estimator:hover label.sk-toggleable__label-arrow:before {color: black;}#sk-container-id-1 div.sk-toggleable__content {max-height: 0;max-width: 0;overflow: hidden;text-align: left;background-color: #f0f8ff;}#sk-container-id-1 div.sk-toggleable__content pre {margin: 0.2em;color: black;border-radius: 0.25em;background-color: #f0f8ff;}#sk-container-id-1 input.sk-toggleable__control:checked~div.sk-toggleable__content {max-height: 200px;max-width: 100%;overflow: auto;}#sk-container-id-1 input.sk-toggleable__control:checked~label.sk-toggleable__label-arrow:before {content: \"▾\";}#sk-container-id-1 div.sk-estimator input.sk-toggleable__control:checked~label.sk-toggleable__label {background-color: #d4ebff;}#sk-container-id-1 div.sk-label input.sk-toggleable__control:checked~label.sk-toggleable__label {background-color: #d4ebff;}#sk-container-id-1 input.sk-hidden--visually {border: 0;clip: rect(1px 1px 1px 1px);clip: rect(1px, 1px, 1px, 1px);height: 1px;margin: -1px;overflow: hidden;padding: 0;position: absolute;width: 1px;}#sk-container-id-1 div.sk-estimator {font-family: monospace;background-color: #f0f8ff;border: 1px dotted black;border-radius: 0.25em;box-sizing: border-box;margin-bottom: 0.5em;}#sk-container-id-1 div.sk-estimator:hover {background-color: #d4ebff;}#sk-container-id-1 div.sk-parallel-item::after {content: \"\";width: 100%;border-bottom: 1px solid gray;flex-grow: 1;}#sk-container-id-1 div.sk-label:hover label.sk-toggleable__label {background-color: #d4ebff;}#sk-container-id-1 div.sk-serial::before {content: \"\";position: absolute;border-left: 1px solid gray;box-sizing: border-box;top: 0;bottom: 0;left: 50%;z-index: 0;}#sk-container-id-1 div.sk-serial {display: flex;flex-direction: column;align-items: center;background-color: white;padding-right: 0.2em;padding-left: 0.2em;position: relative;}#sk-container-id-1 div.sk-item {position: relative;z-index: 1;}#sk-container-id-1 div.sk-parallel {display: flex;align-items: stretch;justify-content: center;background-color: white;position: relative;}#sk-container-id-1 div.sk-item::before, #sk-container-id-1 div.sk-parallel-item::before {content: \"\";position: absolute;border-left: 1px solid gray;box-sizing: border-box;top: 0;bottom: 0;left: 50%;z-index: -1;}#sk-container-id-1 div.sk-parallel-item {display: flex;flex-direction: column;z-index: 1;position: relative;background-color: white;}#sk-container-id-1 div.sk-parallel-item:first-child::after {align-self: flex-end;width: 50%;}#sk-container-id-1 div.sk-parallel-item:last-child::after {align-self: flex-start;width: 50%;}#sk-container-id-1 div.sk-parallel-item:only-child::after {width: 0;}#sk-container-id-1 div.sk-dashed-wrapped {border: 1px dashed gray;margin: 0 0.4em 0.5em 0.4em;box-sizing: border-box;padding-bottom: 0.4em;background-color: white;}#sk-container-id-1 div.sk-label label {font-family: monospace;font-weight: bold;display: inline-block;line-height: 1.2em;}#sk-container-id-1 div.sk-label-container {text-align: center;}#sk-container-id-1 div.sk-container {/* jupyter's `normalize.less` sets `[hidden] { display: none; }` but bootstrap.min.css set `[hidden] { display: none !important; }` so we also need the `!important` here to be able to override the default hidden behavior on the sphinx rendered scikit-learn.org. See: https://github.com/scikit-learn/scikit-learn/issues/21755 */display: inline-block !important;position: relative;}#sk-container-id-1 div.sk-text-repr-fallback {display: none;}</style><div id=\"sk-container-id-1\" class=\"sk-top-container\"><div class=\"sk-text-repr-fallback\"><pre>RandomizedSearchCV(cv=KFold(n_splits=5, random_state=20, shuffle=True),\n",
       "                   estimator=Pipeline(steps=[(&#x27;preprocessing&#x27;,\n",
       "                                              ColumnTransformer(remainder=&#x27;passthrough&#x27;,\n",
       "                                                                transformers=[(&#x27;OneHot&#x27;,\n",
       "                                                                               OneHotEncoder(),\n",
       "                                                                               [&#x27;HallwayType&#x27;]),\n",
       "                                                                              (&#x27;Binary&#x27;,\n",
       "                                                                               BinaryEncoder(),\n",
       "                                                                               [&#x27;SubwayStation&#x27;]),\n",
       "                                                                              (&#x27;Ordinal&#x27;,\n",
       "                                                                               OrdinalEncoder(cols=[&#x27;TimeToSubway&#x27;],\n",
       "                                                                                              mapping=[{&#x27;col&#x27;: &#x27;TimeToSubway&#x27;,\n",
       "                                                                                                        &#x27;mapping&#x27;: {&#x27;0-5...\n",
       "                                                             0.007742636826811269,\n",
       "                                                             0.021544346900318832,\n",
       "                                                             0.05994842503189409,\n",
       "                                                             0.1668100537200059,\n",
       "                                                             0.46415888336127775,\n",
       "                                                             1.2915496650148828,\n",
       "                                                             3.593813663804626,\n",
       "                                                             10.0],\n",
       "                                        &#x27;model__subsample&#x27;: [0.2, 0.3, 0.4, 0.5,\n",
       "                                                             0.6, 0.7, 0.8,\n",
       "                                                             0.9]},\n",
       "                   random_state=1, refit=&#x27;neg_root_mean_squared_error&#x27;,\n",
       "                   scoring=[&#x27;neg_root_mean_squared_error&#x27;,\n",
       "                            &#x27;neg_mean_absolute_error&#x27;,\n",
       "                            &#x27;neg_mean_absolute_percentage_error&#x27;])</pre><b>In a Jupyter environment, please rerun this cell to show the HTML representation or trust the notebook. <br />On GitHub, the HTML representation is unable to render, please try loading this page with nbviewer.org.</b></div><div class=\"sk-container\" hidden><div class=\"sk-item sk-dashed-wrapped\"><div class=\"sk-label-container\"><div class=\"sk-label sk-toggleable\"><input class=\"sk-toggleable__control sk-hidden--visually\" id=\"sk-estimator-id-1\" type=\"checkbox\" ><label for=\"sk-estimator-id-1\" class=\"sk-toggleable__label sk-toggleable__label-arrow\">RandomizedSearchCV</label><div class=\"sk-toggleable__content\"><pre>RandomizedSearchCV(cv=KFold(n_splits=5, random_state=20, shuffle=True),\n",
       "                   estimator=Pipeline(steps=[(&#x27;preprocessing&#x27;,\n",
       "                                              ColumnTransformer(remainder=&#x27;passthrough&#x27;,\n",
       "                                                                transformers=[(&#x27;OneHot&#x27;,\n",
       "                                                                               OneHotEncoder(),\n",
       "                                                                               [&#x27;HallwayType&#x27;]),\n",
       "                                                                              (&#x27;Binary&#x27;,\n",
       "                                                                               BinaryEncoder(),\n",
       "                                                                               [&#x27;SubwayStation&#x27;]),\n",
       "                                                                              (&#x27;Ordinal&#x27;,\n",
       "                                                                               OrdinalEncoder(cols=[&#x27;TimeToSubway&#x27;],\n",
       "                                                                                              mapping=[{&#x27;col&#x27;: &#x27;TimeToSubway&#x27;,\n",
       "                                                                                                        &#x27;mapping&#x27;: {&#x27;0-5...\n",
       "                                                             0.007742636826811269,\n",
       "                                                             0.021544346900318832,\n",
       "                                                             0.05994842503189409,\n",
       "                                                             0.1668100537200059,\n",
       "                                                             0.46415888336127775,\n",
       "                                                             1.2915496650148828,\n",
       "                                                             3.593813663804626,\n",
       "                                                             10.0],\n",
       "                                        &#x27;model__subsample&#x27;: [0.2, 0.3, 0.4, 0.5,\n",
       "                                                             0.6, 0.7, 0.8,\n",
       "                                                             0.9]},\n",
       "                   random_state=1, refit=&#x27;neg_root_mean_squared_error&#x27;,\n",
       "                   scoring=[&#x27;neg_root_mean_squared_error&#x27;,\n",
       "                            &#x27;neg_mean_absolute_error&#x27;,\n",
       "                            &#x27;neg_mean_absolute_percentage_error&#x27;])</pre></div></div></div><div class=\"sk-parallel\"><div class=\"sk-parallel-item\"><div class=\"sk-item\"><div class=\"sk-label-container\"><div class=\"sk-label sk-toggleable\"><input class=\"sk-toggleable__control sk-hidden--visually\" id=\"sk-estimator-id-2\" type=\"checkbox\" ><label for=\"sk-estimator-id-2\" class=\"sk-toggleable__label sk-toggleable__label-arrow\">estimator: Pipeline</label><div class=\"sk-toggleable__content\"><pre>Pipeline(steps=[(&#x27;preprocessing&#x27;,\n",
       "                 ColumnTransformer(remainder=&#x27;passthrough&#x27;,\n",
       "                                   transformers=[(&#x27;OneHot&#x27;, OneHotEncoder(),\n",
       "                                                  [&#x27;HallwayType&#x27;]),\n",
       "                                                 (&#x27;Binary&#x27;, BinaryEncoder(),\n",
       "                                                  [&#x27;SubwayStation&#x27;]),\n",
       "                                                 (&#x27;Ordinal&#x27;,\n",
       "                                                  OrdinalEncoder(cols=[&#x27;TimeToSubway&#x27;],\n",
       "                                                                 mapping=[{&#x27;col&#x27;: &#x27;TimeToSubway&#x27;,\n",
       "                                                                           &#x27;mapping&#x27;: {&#x27;0-5min&#x27;: 4,\n",
       "                                                                                       &#x27;10min~15min&#x27;: 2,\n",
       "                                                                                       &#x27;15min~20min&#x27;: 1,\n",
       "                                                                                       &#x27;5min~10min&#x27;: 3,\n",
       "                                                                                       &#x27;no_bus_stop_nearby&#x27;: 0}}]...\n",
       "                              gamma=None, gpu_id=None, grow_policy=None,\n",
       "                              importance_type=None,\n",
       "                              interaction_constraints=None, learning_rate=None,\n",
       "                              max_bin=None, max_cat_to_onehot=None,\n",
       "                              max_delta_step=None, max_depth=None,\n",
       "                              max_leaves=None, min_child_weight=None,\n",
       "                              missing=nan, monotone_constraints=None,\n",
       "                              n_estimators=100, n_jobs=None,\n",
       "                              num_parallel_tree=None, predictor=None,\n",
       "                              random_state=20, reg_alpha=None, reg_lambda=None, ...))])</pre></div></div></div><div class=\"sk-serial\"><div class=\"sk-item\"><div class=\"sk-serial\"><div class=\"sk-item sk-dashed-wrapped\"><div class=\"sk-label-container\"><div class=\"sk-label sk-toggleable\"><input class=\"sk-toggleable__control sk-hidden--visually\" id=\"sk-estimator-id-3\" type=\"checkbox\" ><label for=\"sk-estimator-id-3\" class=\"sk-toggleable__label sk-toggleable__label-arrow\">preprocessing: ColumnTransformer</label><div class=\"sk-toggleable__content\"><pre>ColumnTransformer(remainder=&#x27;passthrough&#x27;,\n",
       "                  transformers=[(&#x27;OneHot&#x27;, OneHotEncoder(), [&#x27;HallwayType&#x27;]),\n",
       "                                (&#x27;Binary&#x27;, BinaryEncoder(), [&#x27;SubwayStation&#x27;]),\n",
       "                                (&#x27;Ordinal&#x27;,\n",
       "                                 OrdinalEncoder(cols=[&#x27;TimeToSubway&#x27;],\n",
       "                                                mapping=[{&#x27;col&#x27;: &#x27;TimeToSubway&#x27;,\n",
       "                                                          &#x27;mapping&#x27;: {&#x27;0-5min&#x27;: 4,\n",
       "                                                                      &#x27;10min~15min&#x27;: 2,\n",
       "                                                                      &#x27;15min~20min&#x27;: 1,\n",
       "                                                                      &#x27;5min~10min&#x27;: 3,\n",
       "                                                                      &#x27;no_bus_stop_nearby&#x27;: 0}}]),\n",
       "                                 [&#x27;TimeToSubway&#x27;])])</pre></div></div></div><div class=\"sk-parallel\"><div class=\"sk-parallel-item\"><div class=\"sk-item\"><div class=\"sk-label-container\"><div class=\"sk-label sk-toggleable\"><input class=\"sk-toggleable__control sk-hidden--visually\" id=\"sk-estimator-id-4\" type=\"checkbox\" ><label for=\"sk-estimator-id-4\" class=\"sk-toggleable__label sk-toggleable__label-arrow\">OneHot</label><div class=\"sk-toggleable__content\"><pre>[&#x27;HallwayType&#x27;]</pre></div></div></div><div class=\"sk-serial\"><div class=\"sk-item\"><div class=\"sk-estimator sk-toggleable\"><input class=\"sk-toggleable__control sk-hidden--visually\" id=\"sk-estimator-id-5\" type=\"checkbox\" ><label for=\"sk-estimator-id-5\" class=\"sk-toggleable__label sk-toggleable__label-arrow\">OneHotEncoder</label><div class=\"sk-toggleable__content\"><pre>OneHotEncoder()</pre></div></div></div></div></div></div><div class=\"sk-parallel-item\"><div class=\"sk-item\"><div class=\"sk-label-container\"><div class=\"sk-label sk-toggleable\"><input class=\"sk-toggleable__control sk-hidden--visually\" id=\"sk-estimator-id-6\" type=\"checkbox\" ><label for=\"sk-estimator-id-6\" class=\"sk-toggleable__label sk-toggleable__label-arrow\">Binary</label><div class=\"sk-toggleable__content\"><pre>[&#x27;SubwayStation&#x27;]</pre></div></div></div><div class=\"sk-serial\"><div class=\"sk-item\"><div class=\"sk-estimator sk-toggleable\"><input class=\"sk-toggleable__control sk-hidden--visually\" id=\"sk-estimator-id-7\" type=\"checkbox\" ><label for=\"sk-estimator-id-7\" class=\"sk-toggleable__label sk-toggleable__label-arrow\">BinaryEncoder</label><div class=\"sk-toggleable__content\"><pre>BinaryEncoder()</pre></div></div></div></div></div></div><div class=\"sk-parallel-item\"><div class=\"sk-item\"><div class=\"sk-label-container\"><div class=\"sk-label sk-toggleable\"><input class=\"sk-toggleable__control sk-hidden--visually\" id=\"sk-estimator-id-8\" type=\"checkbox\" ><label for=\"sk-estimator-id-8\" class=\"sk-toggleable__label sk-toggleable__label-arrow\">Ordinal</label><div class=\"sk-toggleable__content\"><pre>[&#x27;TimeToSubway&#x27;]</pre></div></div></div><div class=\"sk-serial\"><div class=\"sk-item\"><div class=\"sk-estimator sk-toggleable\"><input class=\"sk-toggleable__control sk-hidden--visually\" id=\"sk-estimator-id-9\" type=\"checkbox\" ><label for=\"sk-estimator-id-9\" class=\"sk-toggleable__label sk-toggleable__label-arrow\">OrdinalEncoder</label><div class=\"sk-toggleable__content\"><pre>OrdinalEncoder(cols=[&#x27;TimeToSubway&#x27;],\n",
       "               mapping=[{&#x27;col&#x27;: &#x27;TimeToSubway&#x27;,\n",
       "                         &#x27;mapping&#x27;: {&#x27;0-5min&#x27;: 4, &#x27;10min~15min&#x27;: 2,\n",
       "                                     &#x27;15min~20min&#x27;: 1, &#x27;5min~10min&#x27;: 3,\n",
       "                                     &#x27;no_bus_stop_nearby&#x27;: 0}}])</pre></div></div></div></div></div></div><div class=\"sk-parallel-item\"><div class=\"sk-item\"><div class=\"sk-label-container\"><div class=\"sk-label sk-toggleable\"><input class=\"sk-toggleable__control sk-hidden--visually\" id=\"sk-estimator-id-10\" type=\"checkbox\" ><label for=\"sk-estimator-id-10\" class=\"sk-toggleable__label sk-toggleable__label-arrow\">remainder</label><div class=\"sk-toggleable__content\"><pre>[&#x27;N_FacilitiesNearBy(ETC)&#x27;, &#x27;N_FacilitiesNearBy(PublicOffice)&#x27;, &#x27;N_SchoolNearBy(University)&#x27;, &#x27;N_Parkinglot(Basement)&#x27;, &#x27;YearBuilt&#x27;, &#x27;N_FacilitiesInApt&#x27;, &#x27;Size(sqf)&#x27;]</pre></div></div></div><div class=\"sk-serial\"><div class=\"sk-item\"><div class=\"sk-estimator sk-toggleable\"><input class=\"sk-toggleable__control sk-hidden--visually\" id=\"sk-estimator-id-11\" type=\"checkbox\" ><label for=\"sk-estimator-id-11\" class=\"sk-toggleable__label sk-toggleable__label-arrow\">passthrough</label><div class=\"sk-toggleable__content\"><pre>passthrough</pre></div></div></div></div></div></div></div></div><div class=\"sk-item\"><div class=\"sk-estimator sk-toggleable\"><input class=\"sk-toggleable__control sk-hidden--visually\" id=\"sk-estimator-id-12\" type=\"checkbox\" ><label for=\"sk-estimator-id-12\" class=\"sk-toggleable__label sk-toggleable__label-arrow\">StandardScaler</label><div class=\"sk-toggleable__content\"><pre>StandardScaler()</pre></div></div></div><div class=\"sk-item\"><div class=\"sk-estimator sk-toggleable\"><input class=\"sk-toggleable__control sk-hidden--visually\" id=\"sk-estimator-id-13\" type=\"checkbox\" ><label for=\"sk-estimator-id-13\" class=\"sk-toggleable__label sk-toggleable__label-arrow\">XGBRegressor</label><div class=\"sk-toggleable__content\"><pre>XGBRegressor(base_score=None, booster=None, callbacks=None,\n",
       "             colsample_bylevel=None, colsample_bynode=None,\n",
       "             colsample_bytree=None, early_stopping_rounds=None,\n",
       "             enable_categorical=False, eval_metric=None, gamma=None,\n",
       "             gpu_id=None, grow_policy=None, importance_type=None,\n",
       "             interaction_constraints=None, learning_rate=None, max_bin=None,\n",
       "             max_cat_to_onehot=None, max_delta_step=None, max_depth=None,\n",
       "             max_leaves=None, min_child_weight=None, missing=nan,\n",
       "             monotone_constraints=None, n_estimators=100, n_jobs=None,\n",
       "             num_parallel_tree=None, predictor=None, random_state=20,\n",
       "             reg_alpha=None, reg_lambda=None, ...)</pre></div></div></div></div></div></div></div></div></div></div></div></div>"
      ],
      "text/plain": [
       "RandomizedSearchCV(cv=KFold(n_splits=5, random_state=20, shuffle=True),\n",
       "                   estimator=Pipeline(steps=[('preprocessing',\n",
       "                                              ColumnTransformer(remainder='passthrough',\n",
       "                                                                transformers=[('OneHot',\n",
       "                                                                               OneHotEncoder(),\n",
       "                                                                               ['HallwayType']),\n",
       "                                                                              ('Binary',\n",
       "                                                                               BinaryEncoder(),\n",
       "                                                                               ['SubwayStation']),\n",
       "                                                                              ('Ordinal',\n",
       "                                                                               OrdinalEncoder(cols=['TimeToSubway'],\n",
       "                                                                                              mapping=[{'col': 'TimeToSubway',\n",
       "                                                                                                        'mapping': {'0-5...\n",
       "                                                             0.007742636826811269,\n",
       "                                                             0.021544346900318832,\n",
       "                                                             0.05994842503189409,\n",
       "                                                             0.1668100537200059,\n",
       "                                                             0.46415888336127775,\n",
       "                                                             1.2915496650148828,\n",
       "                                                             3.593813663804626,\n",
       "                                                             10.0],\n",
       "                                        'model__subsample': [0.2, 0.3, 0.4, 0.5,\n",
       "                                                             0.6, 0.7, 0.8,\n",
       "                                                             0.9]},\n",
       "                   random_state=1, refit='neg_root_mean_squared_error',\n",
       "                   scoring=['neg_root_mean_squared_error',\n",
       "                            'neg_mean_absolute_error',\n",
       "                            'neg_mean_absolute_percentage_error'])"
      ]
     },
     "execution_count": 26,
     "metadata": {},
     "output_type": "execute_result"
    }
   ],
   "source": [
    "# Fitting data training untuk mencari parameter terbaik\n",
    "random_xgb.fit(X_train, y_train)"
   ]
  },
  {
   "cell_type": "code",
   "execution_count": 27,
   "metadata": {},
   "outputs": [
    {
     "name": "stdout",
     "output_type": "stream",
     "text": [
      "XGBoost\n",
      "Best_score: -42010.2146622782\n",
      "Best_params: {'model__subsample': 0.6, 'model__reg_alpha': 0.001, 'model__n_estimators': 190, 'model__max_depth': 5, 'model__learning_rate': 0.04, 'model__gamma': 9, 'model__colsample_bytree': 0.9}\n"
     ]
    }
   ],
   "source": [
    "# Cek skor dan params terbaik\n",
    "print('XGBoost')\n",
    "print('Best_score:', random_xgb.best_score_)\n",
    "print('Best_params:', random_xgb.best_params_)"
   ]
  },
  {
   "cell_type": "markdown",
   "metadata": {},
   "source": [
    "**Decision Tree**"
   ]
  },
  {
   "cell_type": "code",
   "execution_count": 28,
   "metadata": {},
   "outputs": [],
   "source": [
    "# hyperparameter space Decision Tree\n",
    "\n",
    "hyperparam_space_dt = {\n",
    "    'model__max_depth': list(range(1, 21)),            # Kedalaman pohon\n",
    "    'model__max_features': list(range(1, 6)),          # Jumlah feature untuk tiap splitting\n",
    "    'model__min_samples_split': list(range(2, 20)),    # Jumlah sample sebelum splitting\n",
    "    'model__min_samples_leaf' : list(range(2, 10))     # Jumlah sample sesudah splitting\n",
    "}"
   ]
  },
  {
   "cell_type": "code",
   "execution_count": 29,
   "metadata": {},
   "outputs": [],
   "source": [
    "# Model 2 dengan hyperparameter tuning\n",
    "dt = DecisionTreeRegressor(random_state=20)\n",
    "\n",
    "# Membuat algorithm chains\n",
    "estimator_dt = Pipeline([\n",
    "    ('preprocessing', transformer),\n",
    "    ('scaler', scaler),\n",
    "    ('model', dt)\n",
    "])\n",
    "\n",
    "crossval = KFold(n_splits=5, shuffle=True, random_state=20)\n",
    "\n",
    "# Hyperparameter tuning\n",
    "random_dt = RandomizedSearchCV(\n",
    "    estimator_dt,\n",
    "    param_distributions = hyperparam_space_dt,\n",
    "    n_iter = 100,\n",
    "    cv = crossval,\n",
    "    scoring = ['neg_root_mean_squared_error'],\n",
    "    n_jobs = -1,\n",
    "    refit = 'neg_root_mean_squared_error', # hanya bisa memilih satu metrik untuk optimisasi\n",
    "    random_state = 0\n",
    ")"
   ]
  },
  {
   "cell_type": "code",
   "execution_count": 30,
   "metadata": {},
   "outputs": [
    {
     "data": {
      "text/html": [
       "<style>#sk-container-id-2 {color: black;background-color: white;}#sk-container-id-2 pre{padding: 0;}#sk-container-id-2 div.sk-toggleable {background-color: white;}#sk-container-id-2 label.sk-toggleable__label {cursor: pointer;display: block;width: 100%;margin-bottom: 0;padding: 0.3em;box-sizing: border-box;text-align: center;}#sk-container-id-2 label.sk-toggleable__label-arrow:before {content: \"▸\";float: left;margin-right: 0.25em;color: #696969;}#sk-container-id-2 label.sk-toggleable__label-arrow:hover:before {color: black;}#sk-container-id-2 div.sk-estimator:hover label.sk-toggleable__label-arrow:before {color: black;}#sk-container-id-2 div.sk-toggleable__content {max-height: 0;max-width: 0;overflow: hidden;text-align: left;background-color: #f0f8ff;}#sk-container-id-2 div.sk-toggleable__content pre {margin: 0.2em;color: black;border-radius: 0.25em;background-color: #f0f8ff;}#sk-container-id-2 input.sk-toggleable__control:checked~div.sk-toggleable__content {max-height: 200px;max-width: 100%;overflow: auto;}#sk-container-id-2 input.sk-toggleable__control:checked~label.sk-toggleable__label-arrow:before {content: \"▾\";}#sk-container-id-2 div.sk-estimator input.sk-toggleable__control:checked~label.sk-toggleable__label {background-color: #d4ebff;}#sk-container-id-2 div.sk-label input.sk-toggleable__control:checked~label.sk-toggleable__label {background-color: #d4ebff;}#sk-container-id-2 input.sk-hidden--visually {border: 0;clip: rect(1px 1px 1px 1px);clip: rect(1px, 1px, 1px, 1px);height: 1px;margin: -1px;overflow: hidden;padding: 0;position: absolute;width: 1px;}#sk-container-id-2 div.sk-estimator {font-family: monospace;background-color: #f0f8ff;border: 1px dotted black;border-radius: 0.25em;box-sizing: border-box;margin-bottom: 0.5em;}#sk-container-id-2 div.sk-estimator:hover {background-color: #d4ebff;}#sk-container-id-2 div.sk-parallel-item::after {content: \"\";width: 100%;border-bottom: 1px solid gray;flex-grow: 1;}#sk-container-id-2 div.sk-label:hover label.sk-toggleable__label {background-color: #d4ebff;}#sk-container-id-2 div.sk-serial::before {content: \"\";position: absolute;border-left: 1px solid gray;box-sizing: border-box;top: 0;bottom: 0;left: 50%;z-index: 0;}#sk-container-id-2 div.sk-serial {display: flex;flex-direction: column;align-items: center;background-color: white;padding-right: 0.2em;padding-left: 0.2em;position: relative;}#sk-container-id-2 div.sk-item {position: relative;z-index: 1;}#sk-container-id-2 div.sk-parallel {display: flex;align-items: stretch;justify-content: center;background-color: white;position: relative;}#sk-container-id-2 div.sk-item::before, #sk-container-id-2 div.sk-parallel-item::before {content: \"\";position: absolute;border-left: 1px solid gray;box-sizing: border-box;top: 0;bottom: 0;left: 50%;z-index: -1;}#sk-container-id-2 div.sk-parallel-item {display: flex;flex-direction: column;z-index: 1;position: relative;background-color: white;}#sk-container-id-2 div.sk-parallel-item:first-child::after {align-self: flex-end;width: 50%;}#sk-container-id-2 div.sk-parallel-item:last-child::after {align-self: flex-start;width: 50%;}#sk-container-id-2 div.sk-parallel-item:only-child::after {width: 0;}#sk-container-id-2 div.sk-dashed-wrapped {border: 1px dashed gray;margin: 0 0.4em 0.5em 0.4em;box-sizing: border-box;padding-bottom: 0.4em;background-color: white;}#sk-container-id-2 div.sk-label label {font-family: monospace;font-weight: bold;display: inline-block;line-height: 1.2em;}#sk-container-id-2 div.sk-label-container {text-align: center;}#sk-container-id-2 div.sk-container {/* jupyter's `normalize.less` sets `[hidden] { display: none; }` but bootstrap.min.css set `[hidden] { display: none !important; }` so we also need the `!important` here to be able to override the default hidden behavior on the sphinx rendered scikit-learn.org. See: https://github.com/scikit-learn/scikit-learn/issues/21755 */display: inline-block !important;position: relative;}#sk-container-id-2 div.sk-text-repr-fallback {display: none;}</style><div id=\"sk-container-id-2\" class=\"sk-top-container\"><div class=\"sk-text-repr-fallback\"><pre>RandomizedSearchCV(cv=KFold(n_splits=5, random_state=20, shuffle=True),\n",
       "                   estimator=Pipeline(steps=[(&#x27;preprocessing&#x27;,\n",
       "                                              ColumnTransformer(remainder=&#x27;passthrough&#x27;,\n",
       "                                                                transformers=[(&#x27;OneHot&#x27;,\n",
       "                                                                               OneHotEncoder(),\n",
       "                                                                               [&#x27;HallwayType&#x27;]),\n",
       "                                                                              (&#x27;Binary&#x27;,\n",
       "                                                                               BinaryEncoder(),\n",
       "                                                                               [&#x27;SubwayStation&#x27;]),\n",
       "                                                                              (&#x27;Ordinal&#x27;,\n",
       "                                                                               OrdinalEncoder(cols=[&#x27;TimeToSubway&#x27;],\n",
       "                                                                                              mapping=[{&#x27;col&#x27;: &#x27;TimeToSubway&#x27;,\n",
       "                                                                                                        &#x27;mapping&#x27;: {&#x27;0-5...\n",
       "                   n_iter=100, n_jobs=-1,\n",
       "                   param_distributions={&#x27;model__max_depth&#x27;: [1, 2, 3, 4, 5, 6,\n",
       "                                                             7, 8, 9, 10, 11,\n",
       "                                                             12, 13, 14, 15, 16,\n",
       "                                                             17, 18, 19, 20],\n",
       "                                        &#x27;model__max_features&#x27;: [1, 2, 3, 4, 5],\n",
       "                                        &#x27;model__min_samples_leaf&#x27;: [2, 3, 4, 5,\n",
       "                                                                    6, 7, 8,\n",
       "                                                                    9],\n",
       "                                        &#x27;model__min_samples_split&#x27;: [2, 3, 4, 5,\n",
       "                                                                     6, 7, 8, 9,\n",
       "                                                                     10, 11, 12,\n",
       "                                                                     13, 14, 15,\n",
       "                                                                     16, 17, 18,\n",
       "                                                                     19]},\n",
       "                   random_state=0, refit=&#x27;neg_root_mean_squared_error&#x27;,\n",
       "                   scoring=[&#x27;neg_root_mean_squared_error&#x27;])</pre><b>In a Jupyter environment, please rerun this cell to show the HTML representation or trust the notebook. <br />On GitHub, the HTML representation is unable to render, please try loading this page with nbviewer.org.</b></div><div class=\"sk-container\" hidden><div class=\"sk-item sk-dashed-wrapped\"><div class=\"sk-label-container\"><div class=\"sk-label sk-toggleable\"><input class=\"sk-toggleable__control sk-hidden--visually\" id=\"sk-estimator-id-14\" type=\"checkbox\" ><label for=\"sk-estimator-id-14\" class=\"sk-toggleable__label sk-toggleable__label-arrow\">RandomizedSearchCV</label><div class=\"sk-toggleable__content\"><pre>RandomizedSearchCV(cv=KFold(n_splits=5, random_state=20, shuffle=True),\n",
       "                   estimator=Pipeline(steps=[(&#x27;preprocessing&#x27;,\n",
       "                                              ColumnTransformer(remainder=&#x27;passthrough&#x27;,\n",
       "                                                                transformers=[(&#x27;OneHot&#x27;,\n",
       "                                                                               OneHotEncoder(),\n",
       "                                                                               [&#x27;HallwayType&#x27;]),\n",
       "                                                                              (&#x27;Binary&#x27;,\n",
       "                                                                               BinaryEncoder(),\n",
       "                                                                               [&#x27;SubwayStation&#x27;]),\n",
       "                                                                              (&#x27;Ordinal&#x27;,\n",
       "                                                                               OrdinalEncoder(cols=[&#x27;TimeToSubway&#x27;],\n",
       "                                                                                              mapping=[{&#x27;col&#x27;: &#x27;TimeToSubway&#x27;,\n",
       "                                                                                                        &#x27;mapping&#x27;: {&#x27;0-5...\n",
       "                   n_iter=100, n_jobs=-1,\n",
       "                   param_distributions={&#x27;model__max_depth&#x27;: [1, 2, 3, 4, 5, 6,\n",
       "                                                             7, 8, 9, 10, 11,\n",
       "                                                             12, 13, 14, 15, 16,\n",
       "                                                             17, 18, 19, 20],\n",
       "                                        &#x27;model__max_features&#x27;: [1, 2, 3, 4, 5],\n",
       "                                        &#x27;model__min_samples_leaf&#x27;: [2, 3, 4, 5,\n",
       "                                                                    6, 7, 8,\n",
       "                                                                    9],\n",
       "                                        &#x27;model__min_samples_split&#x27;: [2, 3, 4, 5,\n",
       "                                                                     6, 7, 8, 9,\n",
       "                                                                     10, 11, 12,\n",
       "                                                                     13, 14, 15,\n",
       "                                                                     16, 17, 18,\n",
       "                                                                     19]},\n",
       "                   random_state=0, refit=&#x27;neg_root_mean_squared_error&#x27;,\n",
       "                   scoring=[&#x27;neg_root_mean_squared_error&#x27;])</pre></div></div></div><div class=\"sk-parallel\"><div class=\"sk-parallel-item\"><div class=\"sk-item\"><div class=\"sk-label-container\"><div class=\"sk-label sk-toggleable\"><input class=\"sk-toggleable__control sk-hidden--visually\" id=\"sk-estimator-id-15\" type=\"checkbox\" ><label for=\"sk-estimator-id-15\" class=\"sk-toggleable__label sk-toggleable__label-arrow\">estimator: Pipeline</label><div class=\"sk-toggleable__content\"><pre>Pipeline(steps=[(&#x27;preprocessing&#x27;,\n",
       "                 ColumnTransformer(remainder=&#x27;passthrough&#x27;,\n",
       "                                   transformers=[(&#x27;OneHot&#x27;, OneHotEncoder(),\n",
       "                                                  [&#x27;HallwayType&#x27;]),\n",
       "                                                 (&#x27;Binary&#x27;, BinaryEncoder(),\n",
       "                                                  [&#x27;SubwayStation&#x27;]),\n",
       "                                                 (&#x27;Ordinal&#x27;,\n",
       "                                                  OrdinalEncoder(cols=[&#x27;TimeToSubway&#x27;],\n",
       "                                                                 mapping=[{&#x27;col&#x27;: &#x27;TimeToSubway&#x27;,\n",
       "                                                                           &#x27;mapping&#x27;: {&#x27;0-5min&#x27;: 4,\n",
       "                                                                                       &#x27;10min~15min&#x27;: 2,\n",
       "                                                                                       &#x27;15min~20min&#x27;: 1,\n",
       "                                                                                       &#x27;5min~10min&#x27;: 3,\n",
       "                                                                                       &#x27;no_bus_stop_nearby&#x27;: 0}}]),\n",
       "                                                  [&#x27;TimeToSubway&#x27;])])),\n",
       "                (&#x27;scaler&#x27;, StandardScaler()),\n",
       "                (&#x27;model&#x27;, DecisionTreeRegressor(random_state=20))])</pre></div></div></div><div class=\"sk-serial\"><div class=\"sk-item\"><div class=\"sk-serial\"><div class=\"sk-item sk-dashed-wrapped\"><div class=\"sk-label-container\"><div class=\"sk-label sk-toggleable\"><input class=\"sk-toggleable__control sk-hidden--visually\" id=\"sk-estimator-id-16\" type=\"checkbox\" ><label for=\"sk-estimator-id-16\" class=\"sk-toggleable__label sk-toggleable__label-arrow\">preprocessing: ColumnTransformer</label><div class=\"sk-toggleable__content\"><pre>ColumnTransformer(remainder=&#x27;passthrough&#x27;,\n",
       "                  transformers=[(&#x27;OneHot&#x27;, OneHotEncoder(), [&#x27;HallwayType&#x27;]),\n",
       "                                (&#x27;Binary&#x27;, BinaryEncoder(), [&#x27;SubwayStation&#x27;]),\n",
       "                                (&#x27;Ordinal&#x27;,\n",
       "                                 OrdinalEncoder(cols=[&#x27;TimeToSubway&#x27;],\n",
       "                                                mapping=[{&#x27;col&#x27;: &#x27;TimeToSubway&#x27;,\n",
       "                                                          &#x27;mapping&#x27;: {&#x27;0-5min&#x27;: 4,\n",
       "                                                                      &#x27;10min~15min&#x27;: 2,\n",
       "                                                                      &#x27;15min~20min&#x27;: 1,\n",
       "                                                                      &#x27;5min~10min&#x27;: 3,\n",
       "                                                                      &#x27;no_bus_stop_nearby&#x27;: 0}}]),\n",
       "                                 [&#x27;TimeToSubway&#x27;])])</pre></div></div></div><div class=\"sk-parallel\"><div class=\"sk-parallel-item\"><div class=\"sk-item\"><div class=\"sk-label-container\"><div class=\"sk-label sk-toggleable\"><input class=\"sk-toggleable__control sk-hidden--visually\" id=\"sk-estimator-id-17\" type=\"checkbox\" ><label for=\"sk-estimator-id-17\" class=\"sk-toggleable__label sk-toggleable__label-arrow\">OneHot</label><div class=\"sk-toggleable__content\"><pre>[&#x27;HallwayType&#x27;]</pre></div></div></div><div class=\"sk-serial\"><div class=\"sk-item\"><div class=\"sk-estimator sk-toggleable\"><input class=\"sk-toggleable__control sk-hidden--visually\" id=\"sk-estimator-id-18\" type=\"checkbox\" ><label for=\"sk-estimator-id-18\" class=\"sk-toggleable__label sk-toggleable__label-arrow\">OneHotEncoder</label><div class=\"sk-toggleable__content\"><pre>OneHotEncoder()</pre></div></div></div></div></div></div><div class=\"sk-parallel-item\"><div class=\"sk-item\"><div class=\"sk-label-container\"><div class=\"sk-label sk-toggleable\"><input class=\"sk-toggleable__control sk-hidden--visually\" id=\"sk-estimator-id-19\" type=\"checkbox\" ><label for=\"sk-estimator-id-19\" class=\"sk-toggleable__label sk-toggleable__label-arrow\">Binary</label><div class=\"sk-toggleable__content\"><pre>[&#x27;SubwayStation&#x27;]</pre></div></div></div><div class=\"sk-serial\"><div class=\"sk-item\"><div class=\"sk-estimator sk-toggleable\"><input class=\"sk-toggleable__control sk-hidden--visually\" id=\"sk-estimator-id-20\" type=\"checkbox\" ><label for=\"sk-estimator-id-20\" class=\"sk-toggleable__label sk-toggleable__label-arrow\">BinaryEncoder</label><div class=\"sk-toggleable__content\"><pre>BinaryEncoder()</pre></div></div></div></div></div></div><div class=\"sk-parallel-item\"><div class=\"sk-item\"><div class=\"sk-label-container\"><div class=\"sk-label sk-toggleable\"><input class=\"sk-toggleable__control sk-hidden--visually\" id=\"sk-estimator-id-21\" type=\"checkbox\" ><label for=\"sk-estimator-id-21\" class=\"sk-toggleable__label sk-toggleable__label-arrow\">Ordinal</label><div class=\"sk-toggleable__content\"><pre>[&#x27;TimeToSubway&#x27;]</pre></div></div></div><div class=\"sk-serial\"><div class=\"sk-item\"><div class=\"sk-estimator sk-toggleable\"><input class=\"sk-toggleable__control sk-hidden--visually\" id=\"sk-estimator-id-22\" type=\"checkbox\" ><label for=\"sk-estimator-id-22\" class=\"sk-toggleable__label sk-toggleable__label-arrow\">OrdinalEncoder</label><div class=\"sk-toggleable__content\"><pre>OrdinalEncoder(cols=[&#x27;TimeToSubway&#x27;],\n",
       "               mapping=[{&#x27;col&#x27;: &#x27;TimeToSubway&#x27;,\n",
       "                         &#x27;mapping&#x27;: {&#x27;0-5min&#x27;: 4, &#x27;10min~15min&#x27;: 2,\n",
       "                                     &#x27;15min~20min&#x27;: 1, &#x27;5min~10min&#x27;: 3,\n",
       "                                     &#x27;no_bus_stop_nearby&#x27;: 0}}])</pre></div></div></div></div></div></div><div class=\"sk-parallel-item\"><div class=\"sk-item\"><div class=\"sk-label-container\"><div class=\"sk-label sk-toggleable\"><input class=\"sk-toggleable__control sk-hidden--visually\" id=\"sk-estimator-id-23\" type=\"checkbox\" ><label for=\"sk-estimator-id-23\" class=\"sk-toggleable__label sk-toggleable__label-arrow\">remainder</label><div class=\"sk-toggleable__content\"><pre>[&#x27;N_FacilitiesNearBy(ETC)&#x27;, &#x27;N_FacilitiesNearBy(PublicOffice)&#x27;, &#x27;N_SchoolNearBy(University)&#x27;, &#x27;N_Parkinglot(Basement)&#x27;, &#x27;YearBuilt&#x27;, &#x27;N_FacilitiesInApt&#x27;, &#x27;Size(sqf)&#x27;]</pre></div></div></div><div class=\"sk-serial\"><div class=\"sk-item\"><div class=\"sk-estimator sk-toggleable\"><input class=\"sk-toggleable__control sk-hidden--visually\" id=\"sk-estimator-id-24\" type=\"checkbox\" ><label for=\"sk-estimator-id-24\" class=\"sk-toggleable__label sk-toggleable__label-arrow\">passthrough</label><div class=\"sk-toggleable__content\"><pre>passthrough</pre></div></div></div></div></div></div></div></div><div class=\"sk-item\"><div class=\"sk-estimator sk-toggleable\"><input class=\"sk-toggleable__control sk-hidden--visually\" id=\"sk-estimator-id-25\" type=\"checkbox\" ><label for=\"sk-estimator-id-25\" class=\"sk-toggleable__label sk-toggleable__label-arrow\">StandardScaler</label><div class=\"sk-toggleable__content\"><pre>StandardScaler()</pre></div></div></div><div class=\"sk-item\"><div class=\"sk-estimator sk-toggleable\"><input class=\"sk-toggleable__control sk-hidden--visually\" id=\"sk-estimator-id-26\" type=\"checkbox\" ><label for=\"sk-estimator-id-26\" class=\"sk-toggleable__label sk-toggleable__label-arrow\">DecisionTreeRegressor</label><div class=\"sk-toggleable__content\"><pre>DecisionTreeRegressor(random_state=20)</pre></div></div></div></div></div></div></div></div></div></div></div></div>"
      ],
      "text/plain": [
       "RandomizedSearchCV(cv=KFold(n_splits=5, random_state=20, shuffle=True),\n",
       "                   estimator=Pipeline(steps=[('preprocessing',\n",
       "                                              ColumnTransformer(remainder='passthrough',\n",
       "                                                                transformers=[('OneHot',\n",
       "                                                                               OneHotEncoder(),\n",
       "                                                                               ['HallwayType']),\n",
       "                                                                              ('Binary',\n",
       "                                                                               BinaryEncoder(),\n",
       "                                                                               ['SubwayStation']),\n",
       "                                                                              ('Ordinal',\n",
       "                                                                               OrdinalEncoder(cols=['TimeToSubway'],\n",
       "                                                                                              mapping=[{'col': 'TimeToSubway',\n",
       "                                                                                                        'mapping': {'0-5...\n",
       "                   n_iter=100, n_jobs=-1,\n",
       "                   param_distributions={'model__max_depth': [1, 2, 3, 4, 5, 6,\n",
       "                                                             7, 8, 9, 10, 11,\n",
       "                                                             12, 13, 14, 15, 16,\n",
       "                                                             17, 18, 19, 20],\n",
       "                                        'model__max_features': [1, 2, 3, 4, 5],\n",
       "                                        'model__min_samples_leaf': [2, 3, 4, 5,\n",
       "                                                                    6, 7, 8,\n",
       "                                                                    9],\n",
       "                                        'model__min_samples_split': [2, 3, 4, 5,\n",
       "                                                                     6, 7, 8, 9,\n",
       "                                                                     10, 11, 12,\n",
       "                                                                     13, 14, 15,\n",
       "                                                                     16, 17, 18,\n",
       "                                                                     19]},\n",
       "                   random_state=0, refit='neg_root_mean_squared_error',\n",
       "                   scoring=['neg_root_mean_squared_error'])"
      ]
     },
     "execution_count": 30,
     "metadata": {},
     "output_type": "execute_result"
    }
   ],
   "source": [
    "# Fitting data training untuk mencari parameter terbaik\n",
    "random_dt.fit(X_train, y_train)"
   ]
  },
  {
   "cell_type": "code",
   "execution_count": 31,
   "metadata": {},
   "outputs": [
    {
     "name": "stdout",
     "output_type": "stream",
     "text": [
      "Decision Tree Regressor\n",
      "Best_score: -42522.16918860312\n",
      "Best_params: {'model__min_samples_split': 11, 'model__min_samples_leaf': 2, 'model__max_features': 4, 'model__max_depth': 10}\n"
     ]
    }
   ],
   "source": [
    "# Cek skor dan params terbaik\n",
    "print('Decision Tree Regressor')\n",
    "print('Best_score:', random_dt.best_score_)\n",
    "print('Best_params:', random_dt.best_params_)"
   ]
  },
  {
   "cell_type": "markdown",
   "metadata": {},
   "source": [
    "**Random Forest**"
   ]
  },
  {
   "cell_type": "code",
   "execution_count": 32,
   "metadata": {},
   "outputs": [],
   "source": [
    "# Hyperparam Space Random Forest\n",
    "\n",
    "# Jumlah pohon pada random forest\n",
    "n_estimators = list(np.arange(100, 201))\n",
    "\n",
    "# Jumlah fitur yang perlu dipertimbangkan di setiap split\n",
    "max_features = list(np.arange(2, 11))\n",
    "\n",
    "# Kedalaman pohon\n",
    "max_depth = list(np.arange(1, 11))\n",
    "\n",
    "# Jumlah minimum sampel yang diperlukan untuk split sebuah node\n",
    "min_samples_split = list(np.arange(2, 21))\n",
    "\n",
    "# Jumlah minimum sampel yang diperlukan pada setiap leaf\n",
    "min_samples_leaf = list(np.arange(1, 21))\n",
    "\n",
    "\n",
    "hyperparam_space_rf = {\n",
    "    'model__n_estimators': n_estimators,                # Jumlah pohon\n",
    "    'model__max_features': max_features,                # Jumlah feature untuk tiap splitting\n",
    "    'model__max_depth': max_depth,                      # Kedalaman pohon\n",
    "    'model__min_samples_split': min_samples_split,      # Jumlah sample sebelum splitting\n",
    "    'model__min_samples_leaf': min_samples_leaf,}       # Jumlah sample sesudah splitting"
   ]
  },
  {
   "cell_type": "code",
   "execution_count": 33,
   "metadata": {},
   "outputs": [],
   "source": [
    "# Model 3 dengan hyperparameter tuning\n",
    "rf = RandomForestRegressor(random_state=20)\n",
    "\n",
    "# Membuat algorithm chains\n",
    "estimator_rf = Pipeline([\n",
    "    ('preprocessing', transformer),\n",
    "    ('scaler', scaler),\n",
    "    ('model', rf)\n",
    "])\n",
    "\n",
    "crossval = KFold(n_splits=5, shuffle=True, random_state=20)\n",
    "\n",
    "# Hyperparameter tuning\n",
    "random_rf = RandomizedSearchCV(\n",
    "    estimator_rf,\n",
    "    param_distributions = hyperparam_space_rf,\n",
    "    n_iter = 100,\n",
    "    cv = crossval,\n",
    "    scoring = ['neg_root_mean_squared_error'],\n",
    "    n_jobs = -1,\n",
    "    refit = 'neg_root_mean_squared_error', # hanya bisa memilih satu metrik untuk optimisasi\n",
    "    random_state = 0\n",
    ")"
   ]
  },
  {
   "cell_type": "code",
   "execution_count": 34,
   "metadata": {},
   "outputs": [
    {
     "data": {
      "text/html": [
       "<style>#sk-container-id-3 {color: black;background-color: white;}#sk-container-id-3 pre{padding: 0;}#sk-container-id-3 div.sk-toggleable {background-color: white;}#sk-container-id-3 label.sk-toggleable__label {cursor: pointer;display: block;width: 100%;margin-bottom: 0;padding: 0.3em;box-sizing: border-box;text-align: center;}#sk-container-id-3 label.sk-toggleable__label-arrow:before {content: \"▸\";float: left;margin-right: 0.25em;color: #696969;}#sk-container-id-3 label.sk-toggleable__label-arrow:hover:before {color: black;}#sk-container-id-3 div.sk-estimator:hover label.sk-toggleable__label-arrow:before {color: black;}#sk-container-id-3 div.sk-toggleable__content {max-height: 0;max-width: 0;overflow: hidden;text-align: left;background-color: #f0f8ff;}#sk-container-id-3 div.sk-toggleable__content pre {margin: 0.2em;color: black;border-radius: 0.25em;background-color: #f0f8ff;}#sk-container-id-3 input.sk-toggleable__control:checked~div.sk-toggleable__content {max-height: 200px;max-width: 100%;overflow: auto;}#sk-container-id-3 input.sk-toggleable__control:checked~label.sk-toggleable__label-arrow:before {content: \"▾\";}#sk-container-id-3 div.sk-estimator input.sk-toggleable__control:checked~label.sk-toggleable__label {background-color: #d4ebff;}#sk-container-id-3 div.sk-label input.sk-toggleable__control:checked~label.sk-toggleable__label {background-color: #d4ebff;}#sk-container-id-3 input.sk-hidden--visually {border: 0;clip: rect(1px 1px 1px 1px);clip: rect(1px, 1px, 1px, 1px);height: 1px;margin: -1px;overflow: hidden;padding: 0;position: absolute;width: 1px;}#sk-container-id-3 div.sk-estimator {font-family: monospace;background-color: #f0f8ff;border: 1px dotted black;border-radius: 0.25em;box-sizing: border-box;margin-bottom: 0.5em;}#sk-container-id-3 div.sk-estimator:hover {background-color: #d4ebff;}#sk-container-id-3 div.sk-parallel-item::after {content: \"\";width: 100%;border-bottom: 1px solid gray;flex-grow: 1;}#sk-container-id-3 div.sk-label:hover label.sk-toggleable__label {background-color: #d4ebff;}#sk-container-id-3 div.sk-serial::before {content: \"\";position: absolute;border-left: 1px solid gray;box-sizing: border-box;top: 0;bottom: 0;left: 50%;z-index: 0;}#sk-container-id-3 div.sk-serial {display: flex;flex-direction: column;align-items: center;background-color: white;padding-right: 0.2em;padding-left: 0.2em;position: relative;}#sk-container-id-3 div.sk-item {position: relative;z-index: 1;}#sk-container-id-3 div.sk-parallel {display: flex;align-items: stretch;justify-content: center;background-color: white;position: relative;}#sk-container-id-3 div.sk-item::before, #sk-container-id-3 div.sk-parallel-item::before {content: \"\";position: absolute;border-left: 1px solid gray;box-sizing: border-box;top: 0;bottom: 0;left: 50%;z-index: -1;}#sk-container-id-3 div.sk-parallel-item {display: flex;flex-direction: column;z-index: 1;position: relative;background-color: white;}#sk-container-id-3 div.sk-parallel-item:first-child::after {align-self: flex-end;width: 50%;}#sk-container-id-3 div.sk-parallel-item:last-child::after {align-self: flex-start;width: 50%;}#sk-container-id-3 div.sk-parallel-item:only-child::after {width: 0;}#sk-container-id-3 div.sk-dashed-wrapped {border: 1px dashed gray;margin: 0 0.4em 0.5em 0.4em;box-sizing: border-box;padding-bottom: 0.4em;background-color: white;}#sk-container-id-3 div.sk-label label {font-family: monospace;font-weight: bold;display: inline-block;line-height: 1.2em;}#sk-container-id-3 div.sk-label-container {text-align: center;}#sk-container-id-3 div.sk-container {/* jupyter's `normalize.less` sets `[hidden] { display: none; }` but bootstrap.min.css set `[hidden] { display: none !important; }` so we also need the `!important` here to be able to override the default hidden behavior on the sphinx rendered scikit-learn.org. See: https://github.com/scikit-learn/scikit-learn/issues/21755 */display: inline-block !important;position: relative;}#sk-container-id-3 div.sk-text-repr-fallback {display: none;}</style><div id=\"sk-container-id-3\" class=\"sk-top-container\"><div class=\"sk-text-repr-fallback\"><pre>RandomizedSearchCV(cv=KFold(n_splits=5, random_state=20, shuffle=True),\n",
       "                   estimator=Pipeline(steps=[(&#x27;preprocessing&#x27;,\n",
       "                                              ColumnTransformer(remainder=&#x27;passthrough&#x27;,\n",
       "                                                                transformers=[(&#x27;OneHot&#x27;,\n",
       "                                                                               OneHotEncoder(),\n",
       "                                                                               [&#x27;HallwayType&#x27;]),\n",
       "                                                                              (&#x27;Binary&#x27;,\n",
       "                                                                               BinaryEncoder(),\n",
       "                                                                               [&#x27;SubwayStation&#x27;]),\n",
       "                                                                              (&#x27;Ordinal&#x27;,\n",
       "                                                                               OrdinalEncoder(cols=[&#x27;TimeToSubway&#x27;],\n",
       "                                                                                              mapping=[{&#x27;col&#x27;: &#x27;TimeToSubway&#x27;,\n",
       "                                                                                                        &#x27;mapping&#x27;: {&#x27;0-5...\n",
       "                                                                    9, 10, 11,\n",
       "                                                                    12, 13, 14,\n",
       "                                                                    15, 16, 17,\n",
       "                                                                    18, 19,\n",
       "                                                                    20],\n",
       "                                        &#x27;model__min_samples_split&#x27;: [2, 3, 4, 5,\n",
       "                                                                     6, 7, 8, 9,\n",
       "                                                                     10, 11, 12,\n",
       "                                                                     13, 14, 15,\n",
       "                                                                     16, 17, 18,\n",
       "                                                                     19, 20],\n",
       "                                        &#x27;model__n_estimators&#x27;: [100, 101, 102,\n",
       "                                                                103, 104, 105,\n",
       "                                                                106, 107, 108,\n",
       "                                                                109, 110, 111,\n",
       "                                                                112, 113, 114,\n",
       "                                                                115, 116, 117,\n",
       "                                                                118, 119, 120,\n",
       "                                                                121, 122, 123,\n",
       "                                                                124, 125, 126,\n",
       "                                                                127, 128, 129, ...]},\n",
       "                   random_state=0, refit=&#x27;neg_root_mean_squared_error&#x27;,\n",
       "                   scoring=[&#x27;neg_root_mean_squared_error&#x27;])</pre><b>In a Jupyter environment, please rerun this cell to show the HTML representation or trust the notebook. <br />On GitHub, the HTML representation is unable to render, please try loading this page with nbviewer.org.</b></div><div class=\"sk-container\" hidden><div class=\"sk-item sk-dashed-wrapped\"><div class=\"sk-label-container\"><div class=\"sk-label sk-toggleable\"><input class=\"sk-toggleable__control sk-hidden--visually\" id=\"sk-estimator-id-27\" type=\"checkbox\" ><label for=\"sk-estimator-id-27\" class=\"sk-toggleable__label sk-toggleable__label-arrow\">RandomizedSearchCV</label><div class=\"sk-toggleable__content\"><pre>RandomizedSearchCV(cv=KFold(n_splits=5, random_state=20, shuffle=True),\n",
       "                   estimator=Pipeline(steps=[(&#x27;preprocessing&#x27;,\n",
       "                                              ColumnTransformer(remainder=&#x27;passthrough&#x27;,\n",
       "                                                                transformers=[(&#x27;OneHot&#x27;,\n",
       "                                                                               OneHotEncoder(),\n",
       "                                                                               [&#x27;HallwayType&#x27;]),\n",
       "                                                                              (&#x27;Binary&#x27;,\n",
       "                                                                               BinaryEncoder(),\n",
       "                                                                               [&#x27;SubwayStation&#x27;]),\n",
       "                                                                              (&#x27;Ordinal&#x27;,\n",
       "                                                                               OrdinalEncoder(cols=[&#x27;TimeToSubway&#x27;],\n",
       "                                                                                              mapping=[{&#x27;col&#x27;: &#x27;TimeToSubway&#x27;,\n",
       "                                                                                                        &#x27;mapping&#x27;: {&#x27;0-5...\n",
       "                                                                    9, 10, 11,\n",
       "                                                                    12, 13, 14,\n",
       "                                                                    15, 16, 17,\n",
       "                                                                    18, 19,\n",
       "                                                                    20],\n",
       "                                        &#x27;model__min_samples_split&#x27;: [2, 3, 4, 5,\n",
       "                                                                     6, 7, 8, 9,\n",
       "                                                                     10, 11, 12,\n",
       "                                                                     13, 14, 15,\n",
       "                                                                     16, 17, 18,\n",
       "                                                                     19, 20],\n",
       "                                        &#x27;model__n_estimators&#x27;: [100, 101, 102,\n",
       "                                                                103, 104, 105,\n",
       "                                                                106, 107, 108,\n",
       "                                                                109, 110, 111,\n",
       "                                                                112, 113, 114,\n",
       "                                                                115, 116, 117,\n",
       "                                                                118, 119, 120,\n",
       "                                                                121, 122, 123,\n",
       "                                                                124, 125, 126,\n",
       "                                                                127, 128, 129, ...]},\n",
       "                   random_state=0, refit=&#x27;neg_root_mean_squared_error&#x27;,\n",
       "                   scoring=[&#x27;neg_root_mean_squared_error&#x27;])</pre></div></div></div><div class=\"sk-parallel\"><div class=\"sk-parallel-item\"><div class=\"sk-item\"><div class=\"sk-label-container\"><div class=\"sk-label sk-toggleable\"><input class=\"sk-toggleable__control sk-hidden--visually\" id=\"sk-estimator-id-28\" type=\"checkbox\" ><label for=\"sk-estimator-id-28\" class=\"sk-toggleable__label sk-toggleable__label-arrow\">estimator: Pipeline</label><div class=\"sk-toggleable__content\"><pre>Pipeline(steps=[(&#x27;preprocessing&#x27;,\n",
       "                 ColumnTransformer(remainder=&#x27;passthrough&#x27;,\n",
       "                                   transformers=[(&#x27;OneHot&#x27;, OneHotEncoder(),\n",
       "                                                  [&#x27;HallwayType&#x27;]),\n",
       "                                                 (&#x27;Binary&#x27;, BinaryEncoder(),\n",
       "                                                  [&#x27;SubwayStation&#x27;]),\n",
       "                                                 (&#x27;Ordinal&#x27;,\n",
       "                                                  OrdinalEncoder(cols=[&#x27;TimeToSubway&#x27;],\n",
       "                                                                 mapping=[{&#x27;col&#x27;: &#x27;TimeToSubway&#x27;,\n",
       "                                                                           &#x27;mapping&#x27;: {&#x27;0-5min&#x27;: 4,\n",
       "                                                                                       &#x27;10min~15min&#x27;: 2,\n",
       "                                                                                       &#x27;15min~20min&#x27;: 1,\n",
       "                                                                                       &#x27;5min~10min&#x27;: 3,\n",
       "                                                                                       &#x27;no_bus_stop_nearby&#x27;: 0}}]),\n",
       "                                                  [&#x27;TimeToSubway&#x27;])])),\n",
       "                (&#x27;scaler&#x27;, StandardScaler()),\n",
       "                (&#x27;model&#x27;, RandomForestRegressor(random_state=20))])</pre></div></div></div><div class=\"sk-serial\"><div class=\"sk-item\"><div class=\"sk-serial\"><div class=\"sk-item sk-dashed-wrapped\"><div class=\"sk-label-container\"><div class=\"sk-label sk-toggleable\"><input class=\"sk-toggleable__control sk-hidden--visually\" id=\"sk-estimator-id-29\" type=\"checkbox\" ><label for=\"sk-estimator-id-29\" class=\"sk-toggleable__label sk-toggleable__label-arrow\">preprocessing: ColumnTransformer</label><div class=\"sk-toggleable__content\"><pre>ColumnTransformer(remainder=&#x27;passthrough&#x27;,\n",
       "                  transformers=[(&#x27;OneHot&#x27;, OneHotEncoder(), [&#x27;HallwayType&#x27;]),\n",
       "                                (&#x27;Binary&#x27;, BinaryEncoder(), [&#x27;SubwayStation&#x27;]),\n",
       "                                (&#x27;Ordinal&#x27;,\n",
       "                                 OrdinalEncoder(cols=[&#x27;TimeToSubway&#x27;],\n",
       "                                                mapping=[{&#x27;col&#x27;: &#x27;TimeToSubway&#x27;,\n",
       "                                                          &#x27;mapping&#x27;: {&#x27;0-5min&#x27;: 4,\n",
       "                                                                      &#x27;10min~15min&#x27;: 2,\n",
       "                                                                      &#x27;15min~20min&#x27;: 1,\n",
       "                                                                      &#x27;5min~10min&#x27;: 3,\n",
       "                                                                      &#x27;no_bus_stop_nearby&#x27;: 0}}]),\n",
       "                                 [&#x27;TimeToSubway&#x27;])])</pre></div></div></div><div class=\"sk-parallel\"><div class=\"sk-parallel-item\"><div class=\"sk-item\"><div class=\"sk-label-container\"><div class=\"sk-label sk-toggleable\"><input class=\"sk-toggleable__control sk-hidden--visually\" id=\"sk-estimator-id-30\" type=\"checkbox\" ><label for=\"sk-estimator-id-30\" class=\"sk-toggleable__label sk-toggleable__label-arrow\">OneHot</label><div class=\"sk-toggleable__content\"><pre>[&#x27;HallwayType&#x27;]</pre></div></div></div><div class=\"sk-serial\"><div class=\"sk-item\"><div class=\"sk-estimator sk-toggleable\"><input class=\"sk-toggleable__control sk-hidden--visually\" id=\"sk-estimator-id-31\" type=\"checkbox\" ><label for=\"sk-estimator-id-31\" class=\"sk-toggleable__label sk-toggleable__label-arrow\">OneHotEncoder</label><div class=\"sk-toggleable__content\"><pre>OneHotEncoder()</pre></div></div></div></div></div></div><div class=\"sk-parallel-item\"><div class=\"sk-item\"><div class=\"sk-label-container\"><div class=\"sk-label sk-toggleable\"><input class=\"sk-toggleable__control sk-hidden--visually\" id=\"sk-estimator-id-32\" type=\"checkbox\" ><label for=\"sk-estimator-id-32\" class=\"sk-toggleable__label sk-toggleable__label-arrow\">Binary</label><div class=\"sk-toggleable__content\"><pre>[&#x27;SubwayStation&#x27;]</pre></div></div></div><div class=\"sk-serial\"><div class=\"sk-item\"><div class=\"sk-estimator sk-toggleable\"><input class=\"sk-toggleable__control sk-hidden--visually\" id=\"sk-estimator-id-33\" type=\"checkbox\" ><label for=\"sk-estimator-id-33\" class=\"sk-toggleable__label sk-toggleable__label-arrow\">BinaryEncoder</label><div class=\"sk-toggleable__content\"><pre>BinaryEncoder()</pre></div></div></div></div></div></div><div class=\"sk-parallel-item\"><div class=\"sk-item\"><div class=\"sk-label-container\"><div class=\"sk-label sk-toggleable\"><input class=\"sk-toggleable__control sk-hidden--visually\" id=\"sk-estimator-id-34\" type=\"checkbox\" ><label for=\"sk-estimator-id-34\" class=\"sk-toggleable__label sk-toggleable__label-arrow\">Ordinal</label><div class=\"sk-toggleable__content\"><pre>[&#x27;TimeToSubway&#x27;]</pre></div></div></div><div class=\"sk-serial\"><div class=\"sk-item\"><div class=\"sk-estimator sk-toggleable\"><input class=\"sk-toggleable__control sk-hidden--visually\" id=\"sk-estimator-id-35\" type=\"checkbox\" ><label for=\"sk-estimator-id-35\" class=\"sk-toggleable__label sk-toggleable__label-arrow\">OrdinalEncoder</label><div class=\"sk-toggleable__content\"><pre>OrdinalEncoder(cols=[&#x27;TimeToSubway&#x27;],\n",
       "               mapping=[{&#x27;col&#x27;: &#x27;TimeToSubway&#x27;,\n",
       "                         &#x27;mapping&#x27;: {&#x27;0-5min&#x27;: 4, &#x27;10min~15min&#x27;: 2,\n",
       "                                     &#x27;15min~20min&#x27;: 1, &#x27;5min~10min&#x27;: 3,\n",
       "                                     &#x27;no_bus_stop_nearby&#x27;: 0}}])</pre></div></div></div></div></div></div><div class=\"sk-parallel-item\"><div class=\"sk-item\"><div class=\"sk-label-container\"><div class=\"sk-label sk-toggleable\"><input class=\"sk-toggleable__control sk-hidden--visually\" id=\"sk-estimator-id-36\" type=\"checkbox\" ><label for=\"sk-estimator-id-36\" class=\"sk-toggleable__label sk-toggleable__label-arrow\">remainder</label><div class=\"sk-toggleable__content\"><pre>[&#x27;N_FacilitiesNearBy(ETC)&#x27;, &#x27;N_FacilitiesNearBy(PublicOffice)&#x27;, &#x27;N_SchoolNearBy(University)&#x27;, &#x27;N_Parkinglot(Basement)&#x27;, &#x27;YearBuilt&#x27;, &#x27;N_FacilitiesInApt&#x27;, &#x27;Size(sqf)&#x27;]</pre></div></div></div><div class=\"sk-serial\"><div class=\"sk-item\"><div class=\"sk-estimator sk-toggleable\"><input class=\"sk-toggleable__control sk-hidden--visually\" id=\"sk-estimator-id-37\" type=\"checkbox\" ><label for=\"sk-estimator-id-37\" class=\"sk-toggleable__label sk-toggleable__label-arrow\">passthrough</label><div class=\"sk-toggleable__content\"><pre>passthrough</pre></div></div></div></div></div></div></div></div><div class=\"sk-item\"><div class=\"sk-estimator sk-toggleable\"><input class=\"sk-toggleable__control sk-hidden--visually\" id=\"sk-estimator-id-38\" type=\"checkbox\" ><label for=\"sk-estimator-id-38\" class=\"sk-toggleable__label sk-toggleable__label-arrow\">StandardScaler</label><div class=\"sk-toggleable__content\"><pre>StandardScaler()</pre></div></div></div><div class=\"sk-item\"><div class=\"sk-estimator sk-toggleable\"><input class=\"sk-toggleable__control sk-hidden--visually\" id=\"sk-estimator-id-39\" type=\"checkbox\" ><label for=\"sk-estimator-id-39\" class=\"sk-toggleable__label sk-toggleable__label-arrow\">RandomForestRegressor</label><div class=\"sk-toggleable__content\"><pre>RandomForestRegressor(random_state=20)</pre></div></div></div></div></div></div></div></div></div></div></div></div>"
      ],
      "text/plain": [
       "RandomizedSearchCV(cv=KFold(n_splits=5, random_state=20, shuffle=True),\n",
       "                   estimator=Pipeline(steps=[('preprocessing',\n",
       "                                              ColumnTransformer(remainder='passthrough',\n",
       "                                                                transformers=[('OneHot',\n",
       "                                                                               OneHotEncoder(),\n",
       "                                                                               ['HallwayType']),\n",
       "                                                                              ('Binary',\n",
       "                                                                               BinaryEncoder(),\n",
       "                                                                               ['SubwayStation']),\n",
       "                                                                              ('Ordinal',\n",
       "                                                                               OrdinalEncoder(cols=['TimeToSubway'],\n",
       "                                                                                              mapping=[{'col': 'TimeToSubway',\n",
       "                                                                                                        'mapping': {'0-5...\n",
       "                                                                    9, 10, 11,\n",
       "                                                                    12, 13, 14,\n",
       "                                                                    15, 16, 17,\n",
       "                                                                    18, 19,\n",
       "                                                                    20],\n",
       "                                        'model__min_samples_split': [2, 3, 4, 5,\n",
       "                                                                     6, 7, 8, 9,\n",
       "                                                                     10, 11, 12,\n",
       "                                                                     13, 14, 15,\n",
       "                                                                     16, 17, 18,\n",
       "                                                                     19, 20],\n",
       "                                        'model__n_estimators': [100, 101, 102,\n",
       "                                                                103, 104, 105,\n",
       "                                                                106, 107, 108,\n",
       "                                                                109, 110, 111,\n",
       "                                                                112, 113, 114,\n",
       "                                                                115, 116, 117,\n",
       "                                                                118, 119, 120,\n",
       "                                                                121, 122, 123,\n",
       "                                                                124, 125, 126,\n",
       "                                                                127, 128, 129, ...]},\n",
       "                   random_state=0, refit='neg_root_mean_squared_error',\n",
       "                   scoring=['neg_root_mean_squared_error'])"
      ]
     },
     "execution_count": 34,
     "metadata": {},
     "output_type": "execute_result"
    }
   ],
   "source": [
    "# Fitting data training untuk mencari parameter terbaik\n",
    "random_rf.fit(X_train, y_train)"
   ]
  },
  {
   "cell_type": "code",
   "execution_count": 35,
   "metadata": {},
   "outputs": [
    {
     "name": "stdout",
     "output_type": "stream",
     "text": [
      "RandomForest Regressor\n",
      "Best_score: -42230.169550497434\n",
      "Best_params: {'model__n_estimators': 134, 'model__min_samples_split': 16, 'model__min_samples_leaf': 1, 'model__max_features': 10, 'model__max_depth': 10}\n"
     ]
    }
   ],
   "source": [
    "# Cek skor dan params terbaik\n",
    "print('RandomForest Regressor')\n",
    "print('Best_score:', random_rf.best_score_)\n",
    "print('Best_params:', random_rf.best_params_)"
   ]
  },
  {
   "cell_type": "markdown",
   "metadata": {},
   "source": [
    "**Predict to Test Set with the Tuned Model**\n",
    "\n",
    "Melakukan prediksi pada test set dengan menggunakan model hyperparameter terpilih."
   ]
  },
  {
   "cell_type": "code",
   "execution_count": 36,
   "metadata": {},
   "outputs": [],
   "source": [
    "# Model XGBoost\n",
    "model = {'XGB': XGBRegressor(random_state=20)}\n",
    "\n",
    "# Define model terhadap estimator terbaik\n",
    "xgb_tuning = random_xgb.best_estimator_\n",
    "\n",
    "# Fitting model\n",
    "xgb_tuning.fit(X_train, y_train)\n",
    "\n",
    "# Predict test set\n",
    "y_pred_xgb_tuning = xgb_tuning.predict(X_test)\n",
    "\n",
    "# Simpan nilai metrics RMSE, MAE & MAPE setelah tuning\n",
    "mae_xgb_tuning = mean_absolute_error(y_test, y_pred_xgb_tuning)\n",
    "\n",
    "score_after_tuning_xgb = pd.DataFrame({'MAE': mae_xgb_tuning}, index=model.keys())"
   ]
  },
  {
   "cell_type": "code",
   "execution_count": 37,
   "metadata": {},
   "outputs": [],
   "source": [
    "# Model Decision Tree\n",
    "model = {'DecisionTree': DecisionTreeRegressor(random_state=20)}\n",
    "\n",
    "# Define model terhadap estimator terbaik\n",
    "dt_tuning = random_dt.best_estimator_\n",
    "\n",
    "# Fitting model\n",
    "dt_tuning.fit(X_train, y_train)\n",
    "\n",
    "# Prdict test set\n",
    "y_pred_dt_tuning = dt_tuning.predict(X_test)\n",
    "\n",
    "# Simpan nilai metrics RMSE setelah tuning\n",
    "mae_dt_tuning =  mean_absolute_error(y_test, y_pred_dt_tuning)\n",
    "\n",
    "score_after_tuning_dt = pd.DataFrame({'MAE': mae_dt_tuning}, index=model.keys())"
   ]
  },
  {
   "cell_type": "code",
   "execution_count": 38,
   "metadata": {},
   "outputs": [],
   "source": [
    "# Model randomforest\n",
    "model = {'RandomForest': RandomForestRegressor(random_state=20)}\n",
    "\n",
    "# Define model terhadap estimator terbaik\n",
    "rf_tuning = random_rf.best_estimator_\n",
    "\n",
    "# Fitting model\n",
    "rf_tuning.fit(X_train, y_train)\n",
    "\n",
    "# Prdict test set\n",
    "y_pred_rf_tuning = rf_tuning.predict(X_test)\n",
    "\n",
    "# Simpan nilai metrics RMSE setelah tuning\n",
    "mae_rf_tuning = mean_absolute_error(y_test, y_pred_rf_tuning)\n",
    "\n",
    "score_after_tuning_rf = pd.DataFrame({'MAE': mae_rf_tuning}, index=model.keys())"
   ]
  },
  {
   "cell_type": "markdown",
   "metadata": {},
   "source": [
    "**Performance Comparison**\n",
    "\n",
    "Perbandingan performa model XGBoost sebelum dan sesudah dilakukan hyperparameter tuning."
   ]
  },
  {
   "cell_type": "code",
   "execution_count": 39,
   "metadata": {},
   "outputs": [
    {
     "data": {
      "text/html": [
       "<div>\n",
       "<style scoped>\n",
       "    .dataframe tbody tr th:only-of-type {\n",
       "        vertical-align: middle;\n",
       "    }\n",
       "\n",
       "    .dataframe tbody tr th {\n",
       "        vertical-align: top;\n",
       "    }\n",
       "\n",
       "    .dataframe thead th {\n",
       "        text-align: right;\n",
       "    }\n",
       "</style>\n",
       "<table border=\"1\" class=\"dataframe\">\n",
       "  <thead>\n",
       "    <tr style=\"text-align: right;\">\n",
       "      <th></th>\n",
       "      <th>Model</th>\n",
       "      <th>MAE Before Tuning</th>\n",
       "      <th>MAE After Tuning</th>\n",
       "    </tr>\n",
       "  </thead>\n",
       "  <tbody>\n",
       "    <tr>\n",
       "      <th>0</th>\n",
       "      <td>XGBoost</td>\n",
       "      <td>32889.838435</td>\n",
       "      <td>32705.639469</td>\n",
       "    </tr>\n",
       "    <tr>\n",
       "      <th>1</th>\n",
       "      <td>Decision Tree</td>\n",
       "      <td>32890.160570</td>\n",
       "      <td>32784.216953</td>\n",
       "    </tr>\n",
       "    <tr>\n",
       "      <th>2</th>\n",
       "      <td>RandomForest</td>\n",
       "      <td>32903.674097</td>\n",
       "      <td>32826.249106</td>\n",
       "    </tr>\n",
       "  </tbody>\n",
       "</table>\n",
       "</div>"
      ],
      "text/plain": [
       "           Model  MAE Before Tuning  MAE After Tuning\n",
       "0        XGBoost       32889.838435      32705.639469\n",
       "1  Decision Tree       32890.160570      32784.216953\n",
       "2   RandomForest       32903.674097      32826.249106"
      ]
     },
     "execution_count": 39,
     "metadata": {},
     "output_type": "execute_result"
    }
   ],
   "source": [
    "before_after = pd.DataFrame({\n",
    "    'Model': ['XGBoost','Decision Tree', 'RandomForest'],\n",
    "    'MAE Before Tuning': [score_before_tuning.loc['XGBoost Regression']['MAE'], score_before_tuning.loc['DecisionTree Regression']['MAE'], score_before_tuning.loc['RandomForest Regression']['MAE']],\n",
    "    'MAE After Tuning': [mae_xgb_tuning, mae_dt_tuning, mae_rf_tuning]})\n",
    "\n",
    "    \n",
    "before_after.sort_values(by='MAE After Tuning', ascending=True)"
   ]
  },
  {
   "cell_type": "markdown",
   "metadata": {},
   "source": [
    "- Setelah dilakukan Hyperparameter Tuning nilai MAE paling baik tetap **XGBoost**. Meskipun setelah dilakukan tuning penurunan nilai MAE cukup kecil, yaitu 32889.838435 sebelum dilakukan Tuning dan 32748.335988 setelah dilakukan tuning. Penurunannya bahkan tidak sampai 1%."
   ]
  },
  {
   "cell_type": "code",
   "execution_count": 40,
   "metadata": {},
   "outputs": [
    {
     "data": {
      "image/png": "[encoded data removed]",
      "text/plain": [
       "<Figure size 1440x720 with 1 Axes>"
      ]
     },
     "metadata": {
      "needs_background": "light"
     },
     "output_type": "display_data"
    }
   ],
   "source": [
    "plt.figure(figsize=(20, 10))\n",
    "sns.scatterplot(x=y_test, y=y_pred_xgb_tuning)\n",
    "plt.title('Actual vs. Prediction SalePrice', size=20)\n",
    "plt.xlabel('Actual SalePrice'),\n",
    "plt.ylabel('Predicted SalePrice');"
   ]
  },
  {
   "cell_type": "markdown",
   "metadata": {},
   "source": [
    "**Feature Importances**"
   ]
  },
  {
   "cell_type": "code",
   "execution_count": 41,
   "metadata": {},
   "outputs": [
    {
     "data": {
      "image/png": "[encoded data removed]",
      "text/plain": [
       "<Figure size 1440x864 with 1 Axes>"
      ]
     },
     "metadata": {
      "needs_background": "light"
     },
     "output_type": "display_data"
    }
   ],
   "source": [
    "# Plot feature importances\n",
    "feature_imp = pd.DataFrame(xgb_tuning['model'].feature_importances_, transformer.get_feature_names(), \n",
    "                           columns=['Value']).sort_values(by='Value', ascending=False)\n",
    "\n",
    "plt.figure(figsize=(20,12))\n",
    "sns.barplot(data=feature_imp, x='Value', y=feature_imp.index, palette='rainbow');"
   ]
  },
  {
   "cell_type": "markdown",
   "metadata": {},
   "source": [
    "Berdasarkan plot Feature Importance di atas, Tipe Hallway Terraced merupakan fitur yang sangat mempengaruhi harga jual apartment. Mungkin ini sama seperti quick EDA di awal, bahwa tipe hallway Terraced merupakan salah satu fasilitas yang diperhatikan karena tahun pembangunannaya. Karena jika tipe hallwaynya terraced berarti umur apartment masih lumayan baru sehingga harganya pun terpengaruh. Ini dibuktikan dengan fitur YearBuilt menjadi feature importance peringkat kedua."
   ]
  },
  {
   "cell_type": "code",
   "execution_count": 42,
   "metadata": {},
   "outputs": [
    {
     "data": {
      "text/html": [
       "<div>\n",
       "<style scoped>\n",
       "    .dataframe tbody tr th:only-of-type {\n",
       "        vertical-align: middle;\n",
       "    }\n",
       "\n",
       "    .dataframe tbody tr th {\n",
       "        vertical-align: top;\n",
       "    }\n",
       "\n",
       "    .dataframe thead th {\n",
       "        text-align: right;\n",
       "    }\n",
       "</style>\n",
       "<table border=\"1\" class=\"dataframe\">\n",
       "  <thead>\n",
       "    <tr style=\"text-align: right;\">\n",
       "      <th></th>\n",
       "      <th>Size(sqf)</th>\n",
       "      <th>N_Parkinglot(Basement)</th>\n",
       "      <th>SalePrice</th>\n",
       "    </tr>\n",
       "  </thead>\n",
       "  <tbody>\n",
       "    <tr>\n",
       "      <th>0</th>\n",
       "      <td>1387</td>\n",
       "      <td>1270.0</td>\n",
       "      <td>346017</td>\n",
       "    </tr>\n",
       "    <tr>\n",
       "      <th>1</th>\n",
       "      <td>914</td>\n",
       "      <td>0.0</td>\n",
       "      <td>150442</td>\n",
       "    </tr>\n",
       "    <tr>\n",
       "      <th>2</th>\n",
       "      <td>558</td>\n",
       "      <td>56.0</td>\n",
       "      <td>61946</td>\n",
       "    </tr>\n",
       "    <tr>\n",
       "      <th>3</th>\n",
       "      <td>914</td>\n",
       "      <td>798.0</td>\n",
       "      <td>165486</td>\n",
       "    </tr>\n",
       "    <tr>\n",
       "      <th>4</th>\n",
       "      <td>1743</td>\n",
       "      <td>536.0</td>\n",
       "      <td>311504</td>\n",
       "    </tr>\n",
       "  </tbody>\n",
       "</table>\n",
       "</div>"
      ],
      "text/plain": [
       "   Size(sqf)  N_Parkinglot(Basement)  SalePrice\n",
       "0       1387                  1270.0     346017\n",
       "1        914                     0.0     150442\n",
       "2        558                    56.0      61946\n",
       "3        914                   798.0     165486\n",
       "4       1743                   536.0     311504"
      ]
     },
     "execution_count": 42,
     "metadata": {},
     "output_type": "execute_result"
    }
   ],
   "source": [
    "# dataframe baru yang bersumber dari dataframe df\n",
    "df_compare = df.copy()\n",
    "\n",
    "# Dataset yang terdiri dari kolom luas apartment, Tipe Hallway dan harga apartment aktual\n",
    "df_compare[['Size(sqf)','N_Parkinglot(Basement)','SalePrice']].head()"
   ]
  },
  {
   "cell_type": "code",
   "execution_count": 43,
   "metadata": {},
   "outputs": [
    {
     "data": {
      "text/html": [
       "<div>\n",
       "<style scoped>\n",
       "    .dataframe tbody tr th:only-of-type {\n",
       "        vertical-align: middle;\n",
       "    }\n",
       "\n",
       "    .dataframe tbody tr th {\n",
       "        vertical-align: top;\n",
       "    }\n",
       "\n",
       "    .dataframe thead th {\n",
       "        text-align: right;\n",
       "    }\n",
       "</style>\n",
       "<table border=\"1\" class=\"dataframe\">\n",
       "  <thead>\n",
       "    <tr style=\"text-align: right;\">\n",
       "      <th></th>\n",
       "      <th>Size(sqf)</th>\n",
       "      <th>N_Parkinglot(Basement)</th>\n",
       "      <th>SalePrice</th>\n",
       "      <th>Prediksi</th>\n",
       "      <th>Selisih</th>\n",
       "    </tr>\n",
       "  </thead>\n",
       "  <tbody>\n",
       "    <tr>\n",
       "      <th>0</th>\n",
       "      <td>1387</td>\n",
       "      <td>1270.0</td>\n",
       "      <td>346017</td>\n",
       "      <td>388138.0</td>\n",
       "      <td>42121.0</td>\n",
       "    </tr>\n",
       "    <tr>\n",
       "      <th>1</th>\n",
       "      <td>914</td>\n",
       "      <td>0.0</td>\n",
       "      <td>150442</td>\n",
       "      <td>172961.0</td>\n",
       "      <td>22519.0</td>\n",
       "    </tr>\n",
       "    <tr>\n",
       "      <th>2</th>\n",
       "      <td>558</td>\n",
       "      <td>56.0</td>\n",
       "      <td>61946</td>\n",
       "      <td>81223.0</td>\n",
       "      <td>19277.0</td>\n",
       "    </tr>\n",
       "    <tr>\n",
       "      <th>3</th>\n",
       "      <td>914</td>\n",
       "      <td>798.0</td>\n",
       "      <td>165486</td>\n",
       "      <td>213028.0</td>\n",
       "      <td>47542.0</td>\n",
       "    </tr>\n",
       "    <tr>\n",
       "      <th>4</th>\n",
       "      <td>1743</td>\n",
       "      <td>536.0</td>\n",
       "      <td>311504</td>\n",
       "      <td>335828.0</td>\n",
       "      <td>24324.0</td>\n",
       "    </tr>\n",
       "  </tbody>\n",
       "</table>\n",
       "</div>"
      ],
      "text/plain": [
       "   Size(sqf)  N_Parkinglot(Basement)  SalePrice  Prediksi  Selisih\n",
       "0       1387                  1270.0     346017  388138.0  42121.0\n",
       "1        914                     0.0     150442  172961.0  22519.0\n",
       "2        558                    56.0      61946   81223.0  19277.0\n",
       "3        914                   798.0     165486  213028.0  47542.0\n",
       "4       1743                   536.0     311504  335828.0  24324.0"
      ]
     },
     "execution_count": 43,
     "metadata": {},
     "output_type": "execute_result"
    }
   ],
   "source": [
    "# Harga Prediksi menggunakan model\n",
    "df_compare['Prediksi'] = (xgb_tuning.predict(X)).round()\n",
    "\n",
    "# selisih harga antara harga aktual dengan dengan harga prediksi\n",
    "df_compare['Selisih'] = abs(df_compare['SalePrice']-df_compare['Prediksi'])\n",
    "\n",
    "# Harga aktual, Harga prediksi dan Selisih harga\n",
    "df_compare[['Size(sqf)','N_Parkinglot(Basement)','SalePrice','Prediksi','Selisih']].head()"
   ]
  },
  {
   "cell_type": "markdown",
   "metadata": {},
   "source": [
    "Dari perbandingan di atas selisih untuk harga asli dan harga prediksi masih cukup besar. Contohnya saja baris pertama harga prediksi $388138, namun kenyataannya harga apartment tersebut $346017. Selisih in lumayan besar, namun jika kita dilhat dengan dua fitur pendukungnya memiliki luas apartment terbilang cukup luas yaitu 1387sqf dan kapasitas tempat parkir yang juga luas, ini bisa saja tidak terlalu merugikan dengan fitur yang mendukung harga. Selain itu jika selisih harga prediksi dengan aktual cukup besar in bisa jadi keuntungan untuk Agen Properti sendiri yang akan mendapatkan komisi yang besar. "
   ]
  },
  {
   "cell_type": "markdown",
   "metadata": {},
   "source": [
    "# **Conclusion**"
   ]
  },
  {
   "cell_type": "markdown",
   "metadata": {},
   "source": [
    "Berdasarkan pemodelan yang sudah dilakukan, fitur `HallwayType_Terraced`, `YearBuilt` dan `Size(sqf)` menjadi fitur yang paling berpengaruh terhadap `SalePrice`. Namun bukan berarti fitur lainnya tidak berpengaruh terhadap target.\n",
    "\n",
    " Metrik evaluasi yang digunakan pada model adalah MAE. Jika ditinjau dari nilai MAE yang dihasilkan oleh model setelah dilakukan hyperparameter tuning menggunakan XGBoost, yaitu sebesar 32705.639469, kita dapat menyimpulkan bahwa bila nanti model yang kita buat ini digunakan untuk memperkirakan harga apartment di Daegu pada rentang nilai seperti yang dilatih terhadap model (maksimal harga USD  508849), maka perkiraan nilai error yang dihasilkan MAE terbilang cukup kecil yaitu 6,4%. Namun bila disandingkan terhadap model (minimal harga USD 32743), nilai error sangat besar. Oleh karena itu tingkatkan lagi batas minimum untuk Harga Jual Apartment\n",
    " \n",
    "Secara Keseluruhan menggunakan model algoritma XGBoost sudah cukup baik untuk memprediksi harga jual apartment di Kota Daegu. Karena cara kerja algoritma XGBoost yang efisien dan fleksible, Agen Properti di Daerah Daebong, Daegu dapat memprediksi harga-harga apartment dan mendapatkan komisi yang cukup besar.\n"
   ]
  },
  {
   "cell_type": "markdown",
   "metadata": {},
   "source": [
    "# **Recommendations**"
   ]
  },
  {
   "cell_type": "markdown",
   "metadata": {},
   "source": [
    "Rekomendasi untuk membuat pemodelan yang lebih baik, yaitu :\n",
    "\n",
    "- Memberikan batasan minimum nilai SalePrice yang lebih tinggi, karena terdapat  error yang besar untuk dapat diprediksi dengan harga yang rendah. - Menambah jumlah data agar model dapat banyak berlatih\n",
    "- Menambah fitur/fasilitas yang dapat mempengaruhi nilai SalePrice \n",
    "- Menggunakan algoritma lainnya yang lebih kompleks agar dapat meminimalisir error"
   ]
  },
  {
   "cell_type": "markdown",
   "metadata": {},
   "source": [
    "****\n"
   ]
  },
  {
   "cell_type": "markdown",
   "metadata": {},
   "source": [
    "#### **Save Model**"
   ]
  },
  {
   "cell_type": "code",
   "execution_count": 44,
   "metadata": {},
   "outputs": [],
   "source": [
    "# #Save model\n",
    "# import pickle\n",
    "\n",
    "# estimator = Pipeline([('preprocess', transformer), ('model', XGBRegressor())])\n",
    "# estimator.fit(X_train, y_train)\n",
    "\n",
    "# pickle.dump(estimator, open('Model_Daegu_XGB.sav', 'wb'))\n",
    "\n",
    "# # #Load model\n",
    "# # filename = 'Model_Daegu_XGB.sav'\n",
    "# # loaded_model = pickle.load(open(filename, 'rb'))\n",
    "# # np.sqrt(mean_squared_error(y_test, loaded_model.predict(X_test)))"
   ]
  }
 ],
 "metadata": {
  "kernelspec": {
   "display_name": "Python 3.10.4 64-bit",
   "language": "python",
   "name": "python3"
  },
  "language_info": {
   "codemirror_mode": {
    "name": "ipython",
    "version": 3
   },
   "file_extension": ".py",
   "mimetype": "text/x-python",
   "name": "python",
   "nbconvert_exporter": "python",
   "pygments_lexer": "ipython3",
   "version": "3.10.4"
  },
  "orig_nbformat": 4,
  "vscode": {
   "interpreter": {
    "hash": "a55e523cc57337da790668f8d04004b1f99aedc14db1f6346a462cdf8ca2cb3e"
   }
  }
 },
 "nbformat": 4,
 "nbformat_minor": 2
}
